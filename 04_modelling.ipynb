{
 "cells": [
  {
   "cell_type": "markdown",
   "id": "b1cbedc8-049f-45d4-b17e-cec5f56d1ae5",
   "metadata": {
    "tags": []
   },
   "source": [
    "# MODELLING"
   ]
  },
  {
   "cell_type": "markdown",
   "id": "266ce21f-823f-4787-b8fa-0625cc1fa3f6",
   "metadata": {},
   "source": [
    "imports, libraries, and options"
   ]
  },
  {
   "cell_type": "code",
   "execution_count": 1,
   "id": "421700e2-97e5-4ebd-ac8e-21f9b0f35603",
   "metadata": {},
   "outputs": [],
   "source": [
    "import pandas as pd\n",
    "import numpy as np\n",
    "import matplotlib.pyplot as plt\n",
    "import seaborn as sns\n",
    "\n",
    "from sklearn.ensemble import RandomForestRegressor, BaggingRegressor, AdaBoostRegressor\n",
    "from sklearn.model_selection import train_test_split, GridSearchCV, cross_val_score, RandomizedSearchCV\n",
    "from sklearn.pipeline import Pipeline\n",
    "from sklearn.linear_model import LinearRegression, Lasso, Ridge\n",
    "from sklearn.metrics import confusion_matrix, plot_confusion_matrix, mean_squared_error, f1_score, silhouette_score\n",
    "from sklearn.svm import LinearSVR, SVR\n",
    "from sklearn.neighbors import KNeighborsRegressor\n",
    "from sklearn.preprocessing import StandardScaler, PolynomialFeatures, PowerTransformer, QuantileTransformer\n",
    "from sklearn.tree import DecisionTreeRegressor\n",
    "from sklearn.cluster import KMeans, DBSCAN\n",
    "\n",
    "\n",
    "pd.options.display.max_colwidth = 500\n",
    "pd.options.display.max_columns = 99"
   ]
  },
  {
   "cell_type": "markdown",
   "id": "2ab138ff-1fd9-4410-8dbc-9f3cc8940aa3",
   "metadata": {},
   "source": [
    "<br>\n",
    "read in df_for_modelling df from pkl as df and drop unmodelable columns"
   ]
  },
  {
   "cell_type": "code",
   "execution_count": 2,
   "id": "943b6858-4934-4a31-b457-b11ffc899744",
   "metadata": {
    "tags": []
   },
   "outputs": [
    {
     "data": {
      "text/plain": [
       "Index(['wine', 'name', 'vintage', 'category', 'varietal', 'winery',\n",
       "       'appellation', 'designation', 'alcohol', 'price', 'rating', 'reviewer',\n",
       "       'location', 'geocode', 'lat', 'long', 'id', '4_prcp', '4_tmin',\n",
       "       '4_tmax', '4_avg_tmin', '4_avg_tmax', '5_prcp', '5_tmin', '5_tmax',\n",
       "       '5_avg_tmin', '5_avg_tmax', '6_prcp', '6_tmin', '6_tmax', '6_avg_tmin',\n",
       "       '6_avg_tmax', '7_prcp', '7_tmin', '7_tmax', '7_avg_tmin', '7_avg_tmax',\n",
       "       '8_prcp', '8_tmin', '8_tmax', '8_avg_tmin', '8_avg_tmax', '9_prcp',\n",
       "       '9_tmin', '9_tmax', '9_avg_tmin', '9_avg_tmax', '10_prcp', '10_tmin',\n",
       "       '10_tmax', '10_avg_tmin', '10_avg_tmax', 'spring_prcp_tot',\n",
       "       'summer_prcp_tot', 'autumn_prcp_tot', 'spring_tmax_avg',\n",
       "       'summer_tmax_avg', 'autumn_tmax_avg', 'spring_tmin_avg',\n",
       "       'summer_tmin_avg', 'autumn_tmin_avg'],\n",
       "      dtype='object')"
      ]
     },
     "execution_count": 2,
     "metadata": {},
     "output_type": "execute_result"
    }
   ],
   "source": [
    "data= pd.read_pickle('datasets/df_for_modelling.pkl')\n",
    "data.columns"
   ]
  },
  {
   "cell_type": "code",
   "execution_count": 3,
   "id": "b35f31fb-22c8-45f0-8076-1dc956adb2d6",
   "metadata": {},
   "outputs": [
    {
     "data": {
      "text/plain": [
       "Index(['vintage', 'category', 'varietal', 'alcohol', 'price', 'rating',\n",
       "       'reviewer', 'location', 'lat', 'long', '4_prcp', '4_tmin', '4_tmax',\n",
       "       '4_avg_tmin', '4_avg_tmax', '5_prcp', '5_tmin', '5_tmax', '5_avg_tmin',\n",
       "       '5_avg_tmax', '6_prcp', '6_tmin', '6_tmax', '6_avg_tmin', '6_avg_tmax',\n",
       "       '7_prcp', '7_tmin', '7_tmax', '7_avg_tmin', '7_avg_tmax', '8_prcp',\n",
       "       '8_tmin', '8_tmax', '8_avg_tmin', '8_avg_tmax', '9_prcp', '9_tmin',\n",
       "       '9_tmax', '9_avg_tmin', '9_avg_tmax', '10_prcp', '10_tmin', '10_tmax',\n",
       "       '10_avg_tmin', '10_avg_tmax', 'spring_prcp_tot', 'summer_prcp_tot',\n",
       "       'autumn_prcp_tot', 'spring_tmax_avg', 'summer_tmax_avg',\n",
       "       'autumn_tmax_avg', 'spring_tmin_avg', 'summer_tmin_avg',\n",
       "       'autumn_tmin_avg'],\n",
       "      dtype='object')"
      ]
     },
     "execution_count": 3,
     "metadata": {},
     "output_type": "execute_result"
    }
   ],
   "source": [
    "# these columns won't be used in the modelling or to make new modelling df so we will drop them here \n",
    "data.drop(columns= ['wine', 'name', 'winery', 'appellation', 'designation', 'geocode', 'id'], inplace= True)\n",
    "data.columns"
   ]
  },
  {
   "cell_type": "markdown",
   "id": "66a86cf2-e805-4ee7-b290-5fc6f64491c4",
   "metadata": {},
   "source": [
    "<br>\n",
    "make df of only monthly variables"
   ]
  },
  {
   "cell_type": "code",
   "execution_count": 4,
   "id": "c2337480-e514-48e7-8a49-f6ea0f902f83",
   "metadata": {},
   "outputs": [],
   "source": [
    "month_df= data[['vintage', 'category', 'varietal', 'alcohol', 'price', 'rating', 'reviewer', 'location', 'lat', 'long', '4_prcp', '4_tmin', '4_tmax', \n",
    "                '4_avg_tmin', '4_avg_tmax', '5_prcp', '5_tmin', '5_tmax', '5_avg_tmin', '5_avg_tmax', '6_prcp', '6_tmin', '6_tmax', '6_avg_tmin', \n",
    "                '6_avg_tmax', '7_prcp', '7_tmin', '7_tmax', '7_avg_tmin', '7_avg_tmax', '8_prcp', '8_tmin', '8_tmax', '8_avg_tmin', '8_avg_tmax', \n",
    "                '9_prcp', '9_tmin', '9_tmax', '9_avg_tmin', '9_avg_tmax', '10_prcp', '10_tmin', '10_tmax', '10_avg_tmin', '10_avg_tmax']]"
   ]
  },
  {
   "cell_type": "markdown",
   "id": "a282ce35-7d46-483d-a38c-348c599d4023",
   "metadata": {},
   "source": [
    "<br>\n",
    "make df of only season variables"
   ]
  },
  {
   "cell_type": "code",
   "execution_count": 5,
   "id": "2944cb96-f80e-4b6e-860b-31d782a418bd",
   "metadata": {},
   "outputs": [],
   "source": [
    "season_df= data[['vintage', 'category', 'varietal', 'alcohol', 'price', 'rating', 'reviewer', 'location', 'lat', 'long', 'spring_prcp_tot', 'summer_prcp_tot', \n",
    "                 'autumn_prcp_tot', 'spring_tmax_avg', 'summer_tmax_avg', 'autumn_tmax_avg', 'spring_tmin_avg', 'summer_tmin_avg', 'autumn_tmin_avg']]"
   ]
  },
  {
   "cell_type": "markdown",
   "id": "ade76663-17aa-440d-88c5-69418ee91dc4",
   "metadata": {},
   "source": [
    "<br>\n",
    "calculate baseline accuracy, if we prdict the most common values --> 12.69%"
   ]
  },
  {
   "cell_type": "code",
   "execution_count": 6,
   "id": "71b3cee9-516b-4218-acc4-22f311d413b9",
   "metadata": {},
   "outputs": [
    {
     "data": {
      "text/plain": [
       "88    12.693338\n",
       "Name: rating, dtype: float64"
      ]
     },
     "execution_count": 6,
     "metadata": {},
     "output_type": "execute_result"
    }
   ],
   "source": [
    "data['rating'].value_counts(normalize= True).head(1) * 100"
   ]
  },
  {
   "cell_type": "markdown",
   "id": "2b665451-0b3a-4ac6-8200-e3f88d684d9b",
   "metadata": {},
   "source": [
    "<br>\n",
    "basic linear regression model on month_df and season_df ONLY using climate terms in X"
   ]
  },
  {
   "cell_type": "code",
   "execution_count": 7,
   "id": "efcbf20f-918e-43e3-ba27-73922d903a59",
   "metadata": {
    "tags": []
   },
   "outputs": [
    {
     "name": "stdout",
     "output_type": "stream",
     "text": [
      "month_df cross val score is 0.177\n",
      "month_df train score is 0.1846\n",
      "month_df test score is 0.1675\n",
      "month_df train model is off by 2.85\n",
      "month_df test model is off by 2.9\n"
     ]
    }
   ],
   "source": [
    "# define X and y and do train_test_split\n",
    "X= month_df.drop(columns= ['vintage', 'category', 'varietal', 'alcohol', 'price', 'rating', 'reviewer', 'location', 'lat', 'long'])\n",
    "y= month_df['rating']\n",
    "X_train, X_test, y_train, y_test = train_test_split(X, y, random_state= 42) \n",
    "\n",
    "# need to scale data since variables are different magnitudes\n",
    "ss= StandardScaler()\n",
    "ss.fit(X_train)\n",
    "Z_train= ss.transform(X_train)\n",
    "Z_test= ss.transform(X_test)\n",
    "\n",
    "# instantiate and fit model\n",
    "lr= LinearRegression()\n",
    "lr.fit(Z_train, y_train)\n",
    "\n",
    "# cross val score\n",
    "print(f'month_df cross val score is {round(cross_val_score(lr, Z_train, y_train, cv= 5).mean(), 4)}')\n",
    "\n",
    "# train and test scores\n",
    "print(f'month_df train score is {round(lr.score(Z_train, y_train), 4)}')\n",
    "print(f'month_df test score is {round(lr.score(Z_test, y_test), 4)}')\n",
    "\n",
    "# model preditictions\n",
    "train_y_preds = lr.predict(Z_train)\n",
    "test_y_preds = lr.predict(Z_test)\n",
    "\n",
    "# rmse\n",
    "print(f'month_df train model is off by {round(mean_squared_error(y_train, train_y_preds) ** 0.5, 2)}')\n",
    "print(f'month_df test model is off by {round(mean_squared_error(y_test, test_y_preds) ** 0.5, 2)}')"
   ]
  },
  {
   "cell_type": "code",
   "execution_count": 8,
   "id": "45dadd84-c26c-4485-aa80-406e67f4fddd",
   "metadata": {},
   "outputs": [
    {
     "name": "stdout",
     "output_type": "stream",
     "text": [
      "season_df cross val score is 0.0666\n",
      "season_df train score is 0.0689\n",
      "season_df test score is 0.0727\n",
      "season_df train model is off by 3.04\n",
      "season_df test model is off by 3.06\n"
     ]
    }
   ],
   "source": [
    "# define X and y and do train_test_split\n",
    "X= season_df.drop(columns= ['vintage', 'category', 'varietal', 'alcohol', 'price', 'rating', 'reviewer', 'location', 'lat', 'long'])\n",
    "y= season_df['rating']\n",
    "X_train, X_test, y_train, y_test = train_test_split(X, y, random_state= 42) \n",
    "\n",
    "# need to scale data since variables are different magnitudes\n",
    "ss= StandardScaler()\n",
    "ss.fit(X_train)\n",
    "Z_train= ss.transform(X_train)\n",
    "Z_test= ss.transform(X_test)\n",
    "\n",
    "# instantiate and fit model\n",
    "lr= LinearRegression()\n",
    "lr.fit(Z_train, y_train)\n",
    "\n",
    "# cross val score\n",
    "print(f'season_df cross val score is {round(cross_val_score(lr, Z_train, y_train, cv= 5).mean(), 4)}')\n",
    "\n",
    "# train and test scores\n",
    "print(f'season_df train score is {round(lr.score(Z_train, y_train), 4)}')\n",
    "print(f'season_df test score is {round(lr.score(Z_test, y_test), 4)}')\n",
    "\n",
    "# model preditictions\n",
    "train_y_preds = lr.predict(Z_train)\n",
    "test_y_preds = lr.predict(Z_test)\n",
    "\n",
    "# rmse\n",
    "print(f'season_df train model is off by {round(mean_squared_error(y_train, train_y_preds) ** 0.5, 2)}')\n",
    "print(f'season_df test model is off by {round(mean_squared_error(y_test, test_y_preds) ** 0.5, 2)}')"
   ]
  },
  {
   "cell_type": "markdown",
   "id": "60d7c02d-8854-4860-95ba-da3644731e59",
   "metadata": {},
   "source": [
    "both model are neither underfit or ovefit, yet the more climate explicit month_df has a test score of 0.1675 which is greather than the season_df test score of 0.0727, therefore we will move head with month_df to try and get a better R^2 score"
   ]
  },
  {
   "cell_type": "markdown",
   "id": "758d6fe5-fe3e-4cc8-9d2c-bd8ee56d2986",
   "metadata": {},
   "source": [
    "<br>\n",
    "dummify vareital and category variables in month_df and then perform another linear regression using other numeric features such as price, alcohol, vintage, lat, long in X"
   ]
  },
  {
   "cell_type": "code",
   "execution_count": 9,
   "id": "6c4548cb-d905-4e68-8f10-d0cb27306bcc",
   "metadata": {},
   "outputs": [],
   "source": [
    "month_dum= pd.get_dummies(month_df, columns= ['varietal', 'category'], drop_first= True)"
   ]
  },
  {
   "cell_type": "code",
   "execution_count": 10,
   "id": "352783d4-c3d3-4d31-a564-af002c57a899",
   "metadata": {},
   "outputs": [
    {
     "name": "stdout",
     "output_type": "stream",
     "text": [
      "month_df cross val score is 0.3807\n",
      "month_df train score is 0.3901\n",
      "month_df test score is 0.3734\n",
      "month_df train model is off by 2.46\n",
      "month_df test model is off by 2.51\n"
     ]
    }
   ],
   "source": [
    "# define X and y and do train_test_split\n",
    "X= month_dum.drop(columns= ['rating', 'reviewer', 'location'])\n",
    "y= month_dum['rating']\n",
    "X_train, X_test, y_train, y_test = train_test_split(X, y, random_state= 42) \n",
    "\n",
    "# need to scale data since variables are different magnitudes\n",
    "ss= StandardScaler()\n",
    "ss.fit(X_train)\n",
    "Z_train= ss.transform(X_train)\n",
    "Z_test= ss.transform(X_test)\n",
    "\n",
    "# instantiate and fit model\n",
    "lr= LinearRegression()\n",
    "lr.fit(Z_train, y_train)\n",
    "\n",
    "# cross val score\n",
    "print(f'month_df cross val score is {round(cross_val_score(lr, Z_train, y_train, cv= 5).mean(), 4)}')\n",
    "\n",
    "# train and test scores\n",
    "print(f'month_df train score is {round(lr.score(Z_train, y_train), 4)}')\n",
    "print(f'month_df test score is {round(lr.score(Z_test, y_test), 4)}')\n",
    "\n",
    "# model preditictions\n",
    "train_y_preds = lr.predict(Z_train)\n",
    "test_y_preds = lr.predict(Z_test)\n",
    "\n",
    "# rmse\n",
    "print(f'month_df train model is off by {round(mean_squared_error(y_train, train_y_preds) ** 0.5, 2)}')\n",
    "print(f'month_df test model is off by {round(mean_squared_error(y_test, test_y_preds) ** 0.5, 2)}')"
   ]
  },
  {
   "cell_type": "markdown",
   "id": "aff3db61-5fee-4b6a-9610-b2f5ef221e12",
   "metadata": {},
   "source": [
    "<br>\n",
    "use the above model set up to try a couple different regression strategies using base models"
   ]
  },
  {
   "cell_type": "code",
   "execution_count": 11,
   "id": "dbefeb8d-cd05-48dd-81c5-55879798ee5c",
   "metadata": {},
   "outputs": [],
   "source": [
    "# define X and y and do train_test_split\n",
    "X= month_dum.drop(columns= ['rating', 'reviewer', 'location'])\n",
    "y= month_dum['rating']\n",
    "X_train, X_test, y_train, y_test = train_test_split(X, y, random_state= 42) \n",
    "\n",
    "# need to scale data since variables are different magnitudes\n",
    "ss= StandardScaler()\n",
    "ss.fit(X_train)\n",
    "Z_train= ss.transform(X_train)\n",
    "Z_test= ss.transform(X_test)"
   ]
  },
  {
   "cell_type": "code",
   "execution_count": 12,
   "id": "06f0e28e-a2c9-4191-bcc0-297b036d6d17",
   "metadata": {},
   "outputs": [
    {
     "name": "stdout",
     "output_type": "stream",
     "text": [
      "random forests train score: 0.9008\n",
      "random forests test score: 0.3685\n",
      "random forests train model is off by 0.99\n",
      "random forests test model is off by 2.52\n"
     ]
    }
   ],
   "source": [
    "# random forest regressor\n",
    "# instantiate and fit model\n",
    "rf= RandomForestRegressor(random_state= 42)\n",
    "rf.fit(X_train, y_train)\n",
    "\n",
    "# train and test scores\n",
    "print(f'random forests train score: {round(rf.score(X_train, y_train), 4)}')\n",
    "print(f'random forests test score: {round(rf.score(X_test, y_test), 4)}')\n",
    "\n",
    "# model preditictions\n",
    "train_y_preds = rf.predict(X_train)\n",
    "test_y_preds = rf.predict(X_test)\n",
    "\n",
    "# rmse\n",
    "print(f'random forests train model is off by {round(mean_squared_error(y_train, train_y_preds) ** 0.5, 2)}')\n",
    "print(f'random forests test model is off by {round(mean_squared_error(y_test, test_y_preds) ** 0.5, 2)}')"
   ]
  },
  {
   "cell_type": "code",
   "execution_count": 13,
   "id": "61cab0d0-b435-46fb-b5d7-8e69e3eb0156",
   "metadata": {},
   "outputs": [
    {
     "name": "stdout",
     "output_type": "stream",
     "text": [
      "knn train score: 0.5451\n",
      "knn test score: 0.2878\n",
      "knn train model is off by 2.13\n",
      "knn test model is off by 2.68\n"
     ]
    }
   ],
   "source": [
    "# k-nearest neighbors\n",
    "# instantiate and fit model\n",
    "knn= KNeighborsRegressor()\n",
    "knn.fit(Z_train, y_train)\n",
    "\n",
    "# train and test scores\n",
    "print(f'knn train score: {round(knn.score(Z_train, y_train), 4)}')\n",
    "print(f'knn test score: {round(knn.score(Z_test, y_test), 4)}')\n",
    "\n",
    "# model preditictions\n",
    "train_y_preds = knn.predict(Z_train)\n",
    "test_y_preds = knn.predict(Z_test)\n",
    "\n",
    "# rmse\n",
    "print(f'knn train model is off by {round(mean_squared_error(y_train, train_y_preds) ** 0.5, 2)}')\n",
    "print(f'knn test model is off by {round(mean_squared_error(y_test, test_y_preds) ** 0.5, 2)}')"
   ]
  },
  {
   "cell_type": "code",
   "execution_count": 14,
   "id": "898b4d11-5e3b-4118-b2f7-addab1ae7b76",
   "metadata": {},
   "outputs": [
    {
     "name": "stdout",
     "output_type": "stream",
     "text": [
      "bagged decision trees train score: 0.8725\n",
      "bagged decision trees test score: 0.3144\n",
      "bagged decision trees train model is off by 1.13\n",
      "bagged decision trees test model is off by 2.63\n"
     ]
    }
   ],
   "source": [
    "# bagged decision tree\n",
    "# instantiate and fit model\n",
    "bagtree= BaggingRegressor(random_state= 42)\n",
    "bagtree.fit(X_train, y_train)\n",
    "\n",
    "# train and test scores\n",
    "print(f'bagged decision trees train score: {round(bagtree.score(X_train, y_train), 4)}')\n",
    "print(f'bagged decision trees test score: {round(bagtree.score(X_test, y_test), 4)}')\n",
    "\n",
    "# model preditictions\n",
    "train_y_preds = bagtree.predict(X_train)\n",
    "test_y_preds = bagtree.predict(X_test)\n",
    "\n",
    "# rmse\n",
    "print(f'bagged decision trees train model is off by {round(mean_squared_error(y_train, train_y_preds) ** 0.5, 2)}')\n",
    "print(f'bagged decision trees test model is off by {round(mean_squared_error(y_test, test_y_preds) ** 0.5, 2)}')"
   ]
  },
  {
   "cell_type": "code",
   "execution_count": 15,
   "id": "8fe77c15-5adf-4290-aadb-fd7368af52be",
   "metadata": {},
   "outputs": [
    {
     "name": "stdout",
     "output_type": "stream",
     "text": [
      "ada boost train score: 0.362\n",
      "ada boost test score: 0.3485\n",
      "ada boost train model is off by 2.52\n",
      "ada boost test model is off by 2.56\n"
     ]
    }
   ],
   "source": [
    "# ada boost\n",
    "# instantiate and fit model\n",
    "ada= AdaBoostRegressor(random_state= 42)\n",
    "ada.fit(X_train, y_train)\n",
    "\n",
    "# train and test scores\n",
    "print(f'ada boost train score: {round(ada.score(X_train, y_train), 4)}')\n",
    "print(f'ada boost test score: {round(ada.score(X_test, y_test), 4)}')\n",
    "\n",
    "# model preditictions\n",
    "train_y_preds = ada.predict(X_train)\n",
    "test_y_preds = ada.predict(X_test)\n",
    "\n",
    "# rmse\n",
    "print(f'ada boost train model is off by {round(mean_squared_error(y_train, train_y_preds) ** 0.5, 2)}')\n",
    "print(f'ada boost test model is off by {round(mean_squared_error(y_test, test_y_preds) ** 0.5, 2)}')"
   ]
  },
  {
   "cell_type": "code",
   "execution_count": 16,
   "id": "0681b5b8-c95a-4473-ba14-f063de759325",
   "metadata": {},
   "outputs": [
    {
     "name": "stdout",
     "output_type": "stream",
     "text": [
      "svr train score: 0.4592\n",
      "svr test score: 0.4025\n",
      "svr train model is off by 2.32\n",
      "svr test model is off by 2.45\n"
     ]
    }
   ],
   "source": [
    "# svr\n",
    "# instantiate and fit model\n",
    "svr= SVR() \n",
    "svr.fit(Z_train, y_train)\n",
    "\n",
    "# train and test scores\n",
    "print(f'svr train score: {round(svr.score(Z_train, y_train), 4)}')\n",
    "print(f'svr test score: {round(svr.score(Z_test, y_test), 4)}')\n",
    "\n",
    "# model preditictions\n",
    "train_y_preds = svr.predict(Z_train)\n",
    "test_y_preds = svr.predict(Z_test)\n",
    "\n",
    "# rmse\n",
    "print(f'svr train model is off by {round(mean_squared_error(y_train, train_y_preds) ** 0.5, 2)}')\n",
    "print(f'svr test model is off by {round(mean_squared_error(y_test, test_y_preds) ** 0.5, 2)}')"
   ]
  },
  {
   "cell_type": "markdown",
   "id": "755b6817-44f2-4db2-8c97-3aa0313464fe",
   "metadata": {},
   "source": [
    "the linear regression model performs the best without being overfit or underfit with train/test scores of 0.3901/0.3734. the best model with the highest test score is the svr model with a test score of 0.4025."
   ]
  },
  {
   "cell_type": "markdown",
   "id": "8fd9f673-15a8-4ca1-9234-03c804d4f4dc",
   "metadata": {},
   "source": [
    "<br>\n",
    "because there are a lot of variables in the dummied month_df, and a good portion of them are probably useful to the model to predict rating"
   ]
  },
  {
   "cell_type": "code",
   "execution_count": 17,
   "id": "fc1a2176-975b-4fc5-b699-dfced53c00ed",
   "metadata": {},
   "outputs": [
    {
     "data": {
      "image/png": "[encoded data removed]",
      "text/plain": [
       "<Figure size 1440x1080 with 2 Axes>"
      ]
     },
     "metadata": {
      "needs_background": "light"
     },
     "output_type": "display_data"
    }
   ],
   "source": [
    "plt.figure(figsize= (20, 15))\n",
    "sns.heatmap(month_dum.corr(), vmin= -1, vmax= 1, cmap= 'gist_rainbow');"
   ]
  },
  {
   "cell_type": "markdown",
   "id": "4db3559b-f5bc-435c-a511-5a4a1ad8ecd6",
   "metadata": {},
   "source": [
    "the next part of the process will be to perform a lasso regression with month_df and grid search to optimize lasso parameters. this is the will make the unnecessary variables eqaul to 0 and we can look and see which variables the model used to predict y"
   ]
  },
  {
   "cell_type": "code",
   "execution_count": 18,
   "id": "75e63d82-3305-436e-b302-b2601ef8206c",
   "metadata": {},
   "outputs": [],
   "source": [
    "# define X and y and do train_test_split\n",
    "X= month_dum.drop(columns= ['rating', 'reviewer', 'location'])\n",
    "y= month_dum['rating']\n",
    "X_train, X_test, y_train, y_test = train_test_split(X, y, random_state= 42) \n",
    "\n",
    "# need to scale data since variables are different magnitudes\n",
    "ss= StandardScaler()\n",
    "ss.fit(X_train)\n",
    "Z_train= ss.transform(X_train)\n",
    "Z_test= ss.transform(X_test)"
   ]
  },
  {
   "cell_type": "code",
   "execution_count": 19,
   "id": "9ebe6f5d-2afb-472c-92ca-7a796e4068d6",
   "metadata": {
    "collapsed": true,
    "jupyter": {
     "outputs_hidden": true
    },
    "tags": []
   },
   "outputs": [
    {
     "name": "stdout",
     "output_type": "stream",
     "text": [
      "Fitting 5 folds for each of 90 candidates, totalling 450 fits\n"
     ]
    },
    {
     "name": "stderr",
     "output_type": "stream",
     "text": [
      "C:\\Users\\kindb\\anaconda3\\lib\\site-packages\\sklearn\\linear_model\\_coordinate_descent.py:530: ConvergenceWarning: Objective did not converge. You might want to increase the number of iterations. Duality gap: 19240.674762057017, tolerance: 6.900349474290654\n",
      "  model = cd_fast.enet_coordinate_descent(\n",
      "C:\\Users\\kindb\\anaconda3\\lib\\site-packages\\sklearn\\linear_model\\_coordinate_descent.py:530: ConvergenceWarning: Objective did not converge. You might want to increase the number of iterations. Duality gap: 20845.0097146829, tolerance: 6.919909261126313\n",
      "  model = cd_fast.enet_coordinate_descent(\n",
      "C:\\Users\\kindb\\anaconda3\\lib\\site-packages\\sklearn\\linear_model\\_coordinate_descent.py:530: ConvergenceWarning: Objective did not converge. You might want to increase the number of iterations. Duality gap: 20244.48228498364, tolerance: 6.943735013682838\n",
      "  model = cd_fast.enet_coordinate_descent(\n",
      "C:\\Users\\kindb\\anaconda3\\lib\\site-packages\\sklearn\\linear_model\\_coordinate_descent.py:530: ConvergenceWarning: Objective did not converge. You might want to increase the number of iterations. Duality gap: 20318.51405525302, tolerance: 6.893492352009222\n",
      "  model = cd_fast.enet_coordinate_descent(\n",
      "C:\\Users\\kindb\\anaconda3\\lib\\site-packages\\sklearn\\linear_model\\_coordinate_descent.py:530: ConvergenceWarning: Objective did not converge. You might want to increase the number of iterations. Duality gap: 20669.750400970508, tolerance: 6.863815610599076\n",
      "  model = cd_fast.enet_coordinate_descent(\n",
      "C:\\Users\\kindb\\anaconda3\\lib\\site-packages\\sklearn\\linear_model\\_coordinate_descent.py:530: ConvergenceWarning: Objective did not converge. You might want to increase the number of iterations. Duality gap: 12454.066022718202, tolerance: 6.900349474290654\n",
      "  model = cd_fast.enet_coordinate_descent(\n",
      "C:\\Users\\kindb\\anaconda3\\lib\\site-packages\\sklearn\\linear_model\\_coordinate_descent.py:530: ConvergenceWarning: Objective did not converge. You might want to increase the number of iterations. Duality gap: 19286.831835109657, tolerance: 6.919909261126313\n",
      "  model = cd_fast.enet_coordinate_descent(\n",
      "C:\\Users\\kindb\\anaconda3\\lib\\site-packages\\sklearn\\linear_model\\_coordinate_descent.py:530: ConvergenceWarning: Objective did not converge. You might want to increase the number of iterations. Duality gap: 15983.197471087515, tolerance: 6.943735013682838\n",
      "  model = cd_fast.enet_coordinate_descent(\n",
      "C:\\Users\\kindb\\anaconda3\\lib\\site-packages\\sklearn\\linear_model\\_coordinate_descent.py:530: ConvergenceWarning: Objective did not converge. You might want to increase the number of iterations. Duality gap: 17843.369044228795, tolerance: 6.893492352009222\n",
      "  model = cd_fast.enet_coordinate_descent(\n",
      "C:\\Users\\kindb\\anaconda3\\lib\\site-packages\\sklearn\\linear_model\\_coordinate_descent.py:530: ConvergenceWarning: Objective did not converge. You might want to increase the number of iterations. Duality gap: 19253.806632106494, tolerance: 6.863815610599076\n",
      "  model = cd_fast.enet_coordinate_descent(\n",
      "C:\\Users\\kindb\\anaconda3\\lib\\site-packages\\sklearn\\linear_model\\_coordinate_descent.py:530: ConvergenceWarning: Objective did not converge. You might want to increase the number of iterations. Duality gap: 2806.79079250402, tolerance: 6.900349474290654\n",
      "  model = cd_fast.enet_coordinate_descent(\n",
      "C:\\Users\\kindb\\anaconda3\\lib\\site-packages\\sklearn\\linear_model\\_coordinate_descent.py:530: ConvergenceWarning: Objective did not converge. You might want to increase the number of iterations. Duality gap: 13324.994041453398, tolerance: 6.919909261126313\n",
      "  model = cd_fast.enet_coordinate_descent(\n",
      "C:\\Users\\kindb\\anaconda3\\lib\\site-packages\\sklearn\\linear_model\\_coordinate_descent.py:530: ConvergenceWarning: Objective did not converge. You might want to increase the number of iterations. Duality gap: 4249.312410584189, tolerance: 6.943735013682838\n",
      "  model = cd_fast.enet_coordinate_descent(\n",
      "C:\\Users\\kindb\\anaconda3\\lib\\site-packages\\sklearn\\linear_model\\_coordinate_descent.py:530: ConvergenceWarning: Objective did not converge. You might want to increase the number of iterations. Duality gap: 10701.519369950676, tolerance: 6.893492352009222\n",
      "  model = cd_fast.enet_coordinate_descent(\n",
      "C:\\Users\\kindb\\anaconda3\\lib\\site-packages\\sklearn\\linear_model\\_coordinate_descent.py:530: ConvergenceWarning: Objective did not converge. You might want to increase the number of iterations. Duality gap: 13474.80467138926, tolerance: 6.863815610599076\n",
      "  model = cd_fast.enet_coordinate_descent(\n",
      "C:\\Users\\kindb\\anaconda3\\lib\\site-packages\\sklearn\\linear_model\\_coordinate_descent.py:530: ConvergenceWarning: Objective did not converge. You might want to increase the number of iterations. Duality gap: 24.432871090990375, tolerance: 6.919909261126313\n",
      "  model = cd_fast.enet_coordinate_descent(\n",
      "C:\\Users\\kindb\\anaconda3\\lib\\site-packages\\sklearn\\linear_model\\_coordinate_descent.py:530: ConvergenceWarning: Objective did not converge. You might want to increase the number of iterations. Duality gap: 115.56335067544569, tolerance: 6.943735013682838\n",
      "  model = cd_fast.enet_coordinate_descent(\n",
      "C:\\Users\\kindb\\anaconda3\\lib\\site-packages\\sklearn\\linear_model\\_coordinate_descent.py:530: ConvergenceWarning: Objective did not converge. You might want to increase the number of iterations. Duality gap: 30.688349410527735, tolerance: 6.893492352009222\n",
      "  model = cd_fast.enet_coordinate_descent(\n",
      "C:\\Users\\kindb\\anaconda3\\lib\\site-packages\\sklearn\\linear_model\\_coordinate_descent.py:530: ConvergenceWarning: Objective did not converge. You might want to increase the number of iterations. Duality gap: 384.86491332346486, tolerance: 6.863815610599076\n",
      "  model = cd_fast.enet_coordinate_descent(\n",
      "C:\\Users\\kindb\\anaconda3\\lib\\site-packages\\sklearn\\linear_model\\_coordinate_descent.py:530: ConvergenceWarning: Objective did not converge. You might want to increase the number of iterations. Duality gap: 17.385791328997584, tolerance: 6.863815610599076\n",
      "  model = cd_fast.enet_coordinate_descent(\n",
      "C:\\Users\\kindb\\anaconda3\\lib\\site-packages\\sklearn\\linear_model\\_coordinate_descent.py:530: ConvergenceWarning: Objective did not converge. You might want to increase the number of iterations. Duality gap: 58.61527018182096, tolerance: 6.919909261126313\n",
      "  model = cd_fast.enet_coordinate_descent(\n",
      "C:\\Users\\kindb\\anaconda3\\lib\\site-packages\\sklearn\\linear_model\\_coordinate_descent.py:530: ConvergenceWarning: Objective did not converge. You might want to increase the number of iterations. Duality gap: 11.65060096373054, tolerance: 6.943735013682838\n",
      "  model = cd_fast.enet_coordinate_descent(\n"
     ]
    }
   ],
   "source": [
    "# instantiate pipeline\n",
    "pipe_lasso = Pipeline([\n",
    "    ('ss', StandardScaler()),\n",
    "    ('lasso', Lasso(random_state= 42))\n",
    "])\n",
    "\n",
    "# define parameters\n",
    "pipe_lasso_params = {\n",
    "    'lasso__alpha': np.linspace(0.000001, 0.01, 30),\n",
    "    'lasso__max_iter': [500, 1000, 1500]\n",
    "}\n",
    "\n",
    "# instatiate gridsearch and fit model\n",
    "pipe_lasso_gs = GridSearchCV(pipe_lasso, pipe_lasso_params, cv=5, verbose=1)\n",
    "pipe_lasso_gs.fit(X_train, y_train);"
   ]
  },
  {
   "cell_type": "code",
   "execution_count": 20,
   "id": "d2cc9954-d37b-4929-a262-31e4107b6343",
   "metadata": {},
   "outputs": [
    {
     "name": "stdout",
     "output_type": "stream",
     "text": [
      "best estimator: Pipeline(steps=[('ss', StandardScaler()),\n",
      "                ('lasso',\n",
      "                 Lasso(alpha=0.0010353793103448276, max_iter=500,\n",
      "                       random_state=42))])\n",
      "best params: {'lasso__alpha': 0.0010353793103448276, 'lasso__max_iter': 500}\n",
      "lasso train score: 0.39\n",
      "lasso test score: 0.3738\n"
     ]
    }
   ],
   "source": [
    "# find best parameters of pipeline and train/test scores\n",
    "print(f'best estimator: {pipe_lasso_gs.best_estimator_}')\n",
    "print(f'best params: {pipe_lasso_gs.best_params_}')\n",
    "print(f'lasso train score: {round(pipe_lasso_gs.score(X_train, y_train), 4)}')\n",
    "print(f'lasso test score: {round(pipe_lasso_gs.score(X_test, y_test), 4)}')"
   ]
  },
  {
   "cell_type": "code",
   "execution_count": 67,
   "id": "2064f545-886f-4ffc-83e6-81880c9cae9c",
   "metadata": {},
   "outputs": [
    {
     "name": "stdout",
     "output_type": "stream",
     "text": [
      "lasso train score: 0.39\n",
      "lasso test score: 0.3738\n"
     ]
    },
    {
     "data": {
      "text/html": [
       "<div>\n",
       "<style scoped>\n",
       "    .dataframe tbody tr th:only-of-type {\n",
       "        vertical-align: middle;\n",
       "    }\n",
       "\n",
       "    .dataframe tbody tr th {\n",
       "        vertical-align: top;\n",
       "    }\n",
       "\n",
       "    .dataframe thead th {\n",
       "        text-align: right;\n",
       "    }\n",
       "</style>\n",
       "<table border=\"1\" class=\"dataframe\">\n",
       "  <thead>\n",
       "    <tr style=\"text-align: right;\">\n",
       "      <th></th>\n",
       "      <th>coef</th>\n",
       "      <th>lasso_coefs</th>\n",
       "    </tr>\n",
       "  </thead>\n",
       "  <tbody>\n",
       "    <tr>\n",
       "      <th>2</th>\n",
       "      <td>price</td>\n",
       "      <td>1.157213</td>\n",
       "    </tr>\n",
       "    <tr>\n",
       "      <th>0</th>\n",
       "      <td>vintage</td>\n",
       "      <td>0.937004</td>\n",
       "    </tr>\n",
       "    <tr>\n",
       "      <th>39</th>\n",
       "      <td>10_avg_tmax</td>\n",
       "      <td>0.787785</td>\n",
       "    </tr>\n",
       "    <tr>\n",
       "      <th>34</th>\n",
       "      <td>9_avg_tmax</td>\n",
       "      <td>0.775680</td>\n",
       "    </tr>\n",
       "    <tr>\n",
       "      <th>36</th>\n",
       "      <td>10_tmin</td>\n",
       "      <td>0.685121</td>\n",
       "    </tr>\n",
       "    <tr>\n",
       "      <th>8</th>\n",
       "      <td>4_avg_tmin</td>\n",
       "      <td>0.653667</td>\n",
       "    </tr>\n",
       "    <tr>\n",
       "      <th>3</th>\n",
       "      <td>lat</td>\n",
       "      <td>0.590471</td>\n",
       "    </tr>\n",
       "    <tr>\n",
       "      <th>28</th>\n",
       "      <td>8_avg_tmin</td>\n",
       "      <td>0.541653</td>\n",
       "    </tr>\n",
       "    <tr>\n",
       "      <th>5</th>\n",
       "      <td>4_prcp</td>\n",
       "      <td>0.482796</td>\n",
       "    </tr>\n",
       "    <tr>\n",
       "      <th>4</th>\n",
       "      <td>long</td>\n",
       "      <td>0.433368</td>\n",
       "    </tr>\n",
       "  </tbody>\n",
       "</table>\n",
       "</div>"
      ],
      "text/plain": [
       "           coef  lasso_coefs\n",
       "2         price     1.157213\n",
       "0       vintage     0.937004\n",
       "39  10_avg_tmax     0.787785\n",
       "34   9_avg_tmax     0.775680\n",
       "36      10_tmin     0.685121\n",
       "8    4_avg_tmin     0.653667\n",
       "3           lat     0.590471\n",
       "28   8_avg_tmin     0.541653\n",
       "5        4_prcp     0.482796\n",
       "4          long     0.433368"
      ]
     },
     "execution_count": 67,
     "metadata": {},
     "output_type": "execute_result"
    }
   ],
   "source": [
    "# need to rerun above  model to make df of relevant variables\n",
    "# instantiate and fit model\n",
    "lasso= Lasso(alpha= 0.0010353793103448276, max_iter= 500, random_state= 42)\n",
    "lasso.fit(Z_train, y_train)\n",
    "\n",
    "# train and test scores\n",
    "print(f'lasso train score: {round(lasso.score(Z_train, y_train), 4)}')\n",
    "print(f'lasso test score: {round(lasso.score(Z_test, y_test), 4)}')\n",
    "\n",
    "# dataframe of variable name and lasso coefficients\n",
    "coef_df = pd.DataFrame({\n",
    "    'coef': (X.columns),\n",
    "    'lasso_coefs': lasso.coef_\n",
    "})\n",
    "\n",
    "# top 10 variables that had a positive effect on rating\n",
    "coef_df[coef_df['lasso_coefs'] != 0].sort_values(by= ['lasso_coefs'], ascending= False).head(10)"
   ]
  },
  {
   "cell_type": "code",
   "execution_count": 68,
   "id": "20290f5f-25a2-4025-a5dd-4f38b074c5b9",
   "metadata": {
    "tags": []
   },
   "outputs": [
    {
     "data": {
      "text/html": [
       "<div>\n",
       "<style scoped>\n",
       "    .dataframe tbody tr th:only-of-type {\n",
       "        vertical-align: middle;\n",
       "    }\n",
       "\n",
       "    .dataframe tbody tr th {\n",
       "        vertical-align: top;\n",
       "    }\n",
       "\n",
       "    .dataframe thead th {\n",
       "        text-align: right;\n",
       "    }\n",
       "</style>\n",
       "<table border=\"1\" class=\"dataframe\">\n",
       "  <thead>\n",
       "    <tr style=\"text-align: right;\">\n",
       "      <th></th>\n",
       "      <th>coef</th>\n",
       "      <th>lasso_coefs</th>\n",
       "    </tr>\n",
       "  </thead>\n",
       "  <tbody>\n",
       "    <tr>\n",
       "      <th>22</th>\n",
       "      <td>7_tmax</td>\n",
       "      <td>-0.213826</td>\n",
       "    </tr>\n",
       "    <tr>\n",
       "      <th>31</th>\n",
       "      <td>9_tmin</td>\n",
       "      <td>-0.218096</td>\n",
       "    </tr>\n",
       "    <tr>\n",
       "      <th>6</th>\n",
       "      <td>4_tmin</td>\n",
       "      <td>-0.246598</td>\n",
       "    </tr>\n",
       "    <tr>\n",
       "      <th>37</th>\n",
       "      <td>10_tmax</td>\n",
       "      <td>-0.262029</td>\n",
       "    </tr>\n",
       "    <tr>\n",
       "      <th>24</th>\n",
       "      <td>7_avg_tmax</td>\n",
       "      <td>-0.262382</td>\n",
       "    </tr>\n",
       "    <tr>\n",
       "      <th>11</th>\n",
       "      <td>5_tmin</td>\n",
       "      <td>-0.286640</td>\n",
       "    </tr>\n",
       "    <tr>\n",
       "      <th>18</th>\n",
       "      <td>6_avg_tmin</td>\n",
       "      <td>-0.325864</td>\n",
       "    </tr>\n",
       "    <tr>\n",
       "      <th>14</th>\n",
       "      <td>5_avg_tmax</td>\n",
       "      <td>-0.360773</td>\n",
       "    </tr>\n",
       "    <tr>\n",
       "      <th>29</th>\n",
       "      <td>8_avg_tmax</td>\n",
       "      <td>-0.668010</td>\n",
       "    </tr>\n",
       "    <tr>\n",
       "      <th>38</th>\n",
       "      <td>10_avg_tmin</td>\n",
       "      <td>-0.807233</td>\n",
       "    </tr>\n",
       "  </tbody>\n",
       "</table>\n",
       "</div>"
      ],
      "text/plain": [
       "           coef  lasso_coefs\n",
       "22       7_tmax    -0.213826\n",
       "31       9_tmin    -0.218096\n",
       "6        4_tmin    -0.246598\n",
       "37      10_tmax    -0.262029\n",
       "24   7_avg_tmax    -0.262382\n",
       "11       5_tmin    -0.286640\n",
       "18   6_avg_tmin    -0.325864\n",
       "14   5_avg_tmax    -0.360773\n",
       "29   8_avg_tmax    -0.668010\n",
       "38  10_avg_tmin    -0.807233"
      ]
     },
     "execution_count": 68,
     "metadata": {},
     "output_type": "execute_result"
    }
   ],
   "source": [
    "# top 10 variables that had a negative effect on rating\n",
    "coef_df[coef_df['lasso_coefs'] != 0].sort_values(by= ['lasso_coefs'], ascending= False).tail(10)"
   ]
  },
  {
   "cell_type": "code",
   "execution_count": 69,
   "id": "a2db711f-da9b-4bc0-b69b-20c2545906d6",
   "metadata": {},
   "outputs": [
    {
     "data": {
      "text/html": [
       "<div>\n",
       "<style scoped>\n",
       "    .dataframe tbody tr th:only-of-type {\n",
       "        vertical-align: middle;\n",
       "    }\n",
       "\n",
       "    .dataframe tbody tr th {\n",
       "        vertical-align: top;\n",
       "    }\n",
       "\n",
       "    .dataframe thead th {\n",
       "        text-align: right;\n",
       "    }\n",
       "</style>\n",
       "<table border=\"1\" class=\"dataframe\">\n",
       "  <thead>\n",
       "    <tr style=\"text-align: right;\">\n",
       "      <th></th>\n",
       "      <th>coef</th>\n",
       "      <th>lasso_coefs</th>\n",
       "    </tr>\n",
       "  </thead>\n",
       "  <tbody>\n",
       "    <tr>\n",
       "      <th>23</th>\n",
       "      <td>7_avg_tmin</td>\n",
       "      <td>0.0</td>\n",
       "    </tr>\n",
       "    <tr>\n",
       "      <th>32</th>\n",
       "      <td>9_tmax</td>\n",
       "      <td>0.0</td>\n",
       "    </tr>\n",
       "    <tr>\n",
       "      <th>41</th>\n",
       "      <td>varietal_Cabernet Franc</td>\n",
       "      <td>0.0</td>\n",
       "    </tr>\n",
       "    <tr>\n",
       "      <th>55</th>\n",
       "      <td>varietal_Rhône-style White Blend</td>\n",
       "      <td>-0.0</td>\n",
       "    </tr>\n",
       "  </tbody>\n",
       "</table>\n",
       "</div>"
      ],
      "text/plain": [
       "                                coef  lasso_coefs\n",
       "23                        7_avg_tmin          0.0\n",
       "32                            9_tmax          0.0\n",
       "41           varietal_Cabernet Franc          0.0\n",
       "55  varietal_Rhône-style White Blend         -0.0"
      ]
     },
     "execution_count": 69,
     "metadata": {},
     "output_type": "execute_result"
    }
   ],
   "source": [
    "coef_df[coef_df['lasso_coefs'] == 0]"
   ]
  },
  {
   "cell_type": "markdown",
   "id": "0ed8f53b-679a-40e5-a011-6ee6aab2a36c",
   "metadata": {},
   "source": [
    "<br>\n",
    "doing some feature engineering with PolynomialFeatures could tease out more dynamic relationships between certain climate variables, etc, then fit to lasso model with above parameters"
   ]
  },
  {
   "cell_type": "code",
   "execution_count": 23,
   "id": "39781718-49f2-4986-accf-f4154b008858",
   "metadata": {},
   "outputs": [
    {
     "data": {
      "text/plain": [
       "2345"
      ]
     },
     "execution_count": 23,
     "metadata": {},
     "output_type": "execute_result"
    }
   ],
   "source": [
    "# define X and y and do train_test_split\n",
    "X= month_dum.drop(columns= ['rating', 'reviewer', 'location'])\n",
    "y= month_dum['rating']\n",
    "\n",
    "# instatntiate polyfeatures and fit to X and do train test split\n",
    "poly = PolynomialFeatures(degree=2, interaction_only=False, include_bias=False)\n",
    "X_poly= poly.fit_transform(X)\n",
    "X_train_p, X_test_p, y_train_p, y_test_p = train_test_split(X_poly, y, random_state=42)\n",
    "\n",
    "# need to scale data since variables are different magnitudes\n",
    "sc = StandardScaler()\n",
    "Z_train_p = sc.fit_transform(X_train_p)\n",
    "Z_test_p = sc.transform(X_test_p)\n",
    "\n",
    "# check how many more variables we have\n",
    "X_poly.shape[1]"
   ]
  },
  {
   "cell_type": "code",
   "execution_count": 24,
   "id": "c5e08521-34ea-46ed-b5f0-1ebe01e0cb23",
   "metadata": {
    "tags": []
   },
   "outputs": [
    {
     "name": "stdout",
     "output_type": "stream",
     "text": [
      "poly lasso train score: 0.4841\n",
      "poly lasso test score: 0.3842\n"
     ]
    },
    {
     "name": "stderr",
     "output_type": "stream",
     "text": [
      "C:\\Users\\kindb\\anaconda3\\lib\\site-packages\\sklearn\\linear_model\\_coordinate_descent.py:530: ConvergenceWarning: Objective did not converge. You might want to increase the number of iterations. Duality gap: 13999.891062814319, tolerance: 8.6304279525291\n",
      "  model = cd_fast.enet_coordinate_descent(\n"
     ]
    }
   ],
   "source": [
    "# instantiate and fit model\n",
    "lasso= Lasso(alpha= 0.0010353793103448276, max_iter= 500, random_state= 42)\n",
    "lasso.fit(Z_train_p, y_train_p)\n",
    "\n",
    "# train and test scores\n",
    "print(f'poly lasso train score: {round(lasso.score(Z_train_p, y_train_p), 4)}')\n",
    "print(f'poly lasso test score: {round(lasso.score(Z_test_p, y_test_p), 4)}')"
   ]
  },
  {
   "cell_type": "code",
   "execution_count": 25,
   "id": "9a291712-7c61-428d-8c1e-62fb4163aa4a",
   "metadata": {},
   "outputs": [
    {
     "data": {
      "text/html": [
       "<div>\n",
       "<style scoped>\n",
       "    .dataframe tbody tr th:only-of-type {\n",
       "        vertical-align: middle;\n",
       "    }\n",
       "\n",
       "    .dataframe tbody tr th {\n",
       "        vertical-align: top;\n",
       "    }\n",
       "\n",
       "    .dataframe thead th {\n",
       "        text-align: right;\n",
       "    }\n",
       "</style>\n",
       "<table border=\"1\" class=\"dataframe\">\n",
       "  <thead>\n",
       "    <tr style=\"text-align: right;\">\n",
       "      <th></th>\n",
       "      <th>coef</th>\n",
       "      <th>lasso_coefs</th>\n",
       "    </tr>\n",
       "  </thead>\n",
       "  <tbody>\n",
       "    <tr>\n",
       "      <th>2</th>\n",
       "      <td>price</td>\n",
       "      <td>1.726982</td>\n",
       "    </tr>\n",
       "    <tr>\n",
       "      <th>1341</th>\n",
       "      <td>7_tmax varietal_Red Blends</td>\n",
       "      <td>1.424830</td>\n",
       "    </tr>\n",
       "    <tr>\n",
       "      <th>138</th>\n",
       "      <td>alcohol 4_prcp</td>\n",
       "      <td>1.347360</td>\n",
       "    </tr>\n",
       "    <tr>\n",
       "      <th>1684</th>\n",
       "      <td>9_tmin 10_tmin</td>\n",
       "      <td>0.969657</td>\n",
       "    </tr>\n",
       "    <tr>\n",
       "      <th>268</th>\n",
       "      <td>lat 4_tmin</td>\n",
       "      <td>0.921496</td>\n",
       "    </tr>\n",
       "    <tr>\n",
       "      <th>0</th>\n",
       "      <td>vintage</td>\n",
       "      <td>0.789355</td>\n",
       "    </tr>\n",
       "    <tr>\n",
       "      <th>454</th>\n",
       "      <td>4_tmin^2</td>\n",
       "      <td>0.777847</td>\n",
       "    </tr>\n",
       "    <tr>\n",
       "      <th>759</th>\n",
       "      <td>5_tmin 7_tmin</td>\n",
       "      <td>0.682629</td>\n",
       "    </tr>\n",
       "    <tr>\n",
       "      <th>677</th>\n",
       "      <td>4_avg_tmax varietal_Pinot Noir</td>\n",
       "      <td>0.679537</td>\n",
       "    </tr>\n",
       "    <tr>\n",
       "      <th>135</th>\n",
       "      <td>alcohol price</td>\n",
       "      <td>0.665396</td>\n",
       "    </tr>\n",
       "  </tbody>\n",
       "</table>\n",
       "</div>"
      ],
      "text/plain": [
       "                                coef  lasso_coefs\n",
       "2                              price     1.726982\n",
       "1341      7_tmax varietal_Red Blends     1.424830\n",
       "138                   alcohol 4_prcp     1.347360\n",
       "1684                  9_tmin 10_tmin     0.969657\n",
       "268                       lat 4_tmin     0.921496\n",
       "0                            vintage     0.789355\n",
       "454                         4_tmin^2     0.777847\n",
       "759                    5_tmin 7_tmin     0.682629\n",
       "677   4_avg_tmax varietal_Pinot Noir     0.679537\n",
       "135                    alcohol price     0.665396"
      ]
     },
     "execution_count": 25,
     "metadata": {},
     "output_type": "execute_result"
    }
   ],
   "source": [
    "# dataframe of variable name and lasso coefficients\n",
    "coef_df = pd.DataFrame({\n",
    "    'coef': (poly.get_feature_names(X.columns)),\n",
    "    'lasso_coefs': lasso.coef_\n",
    "})\n",
    "\n",
    "# top 10 variables that had a positive effect on rating\n",
    "coef_df[coef_df['lasso_coefs'] != 0].sort_values(by= ['lasso_coefs'], ascending= False).head(10)"
   ]
  },
  {
   "cell_type": "code",
   "execution_count": 26,
   "id": "40e6d1a9-3dae-4f93-9f3a-6e6a938012c4",
   "metadata": {},
   "outputs": [
    {
     "data": {
      "text/html": [
       "<div>\n",
       "<style scoped>\n",
       "    .dataframe tbody tr th:only-of-type {\n",
       "        vertical-align: middle;\n",
       "    }\n",
       "\n",
       "    .dataframe tbody tr th {\n",
       "        vertical-align: top;\n",
       "    }\n",
       "\n",
       "    .dataframe thead th {\n",
       "        text-align: right;\n",
       "    }\n",
       "</style>\n",
       "<table border=\"1\" class=\"dataframe\">\n",
       "  <thead>\n",
       "    <tr style=\"text-align: right;\">\n",
       "      <th></th>\n",
       "      <th>coef</th>\n",
       "      <th>lasso_coefs</th>\n",
       "    </tr>\n",
       "  </thead>\n",
       "  <tbody>\n",
       "    <tr>\n",
       "      <th>1340</th>\n",
       "      <td>7_tmax varietal_Pinot Noir</td>\n",
       "      <td>-0.617208</td>\n",
       "    </tr>\n",
       "    <tr>\n",
       "      <th>315</th>\n",
       "      <td>lat varietal_Red Blends</td>\n",
       "      <td>-0.632933</td>\n",
       "    </tr>\n",
       "    <tr>\n",
       "      <th>633</th>\n",
       "      <td>4_avg_tmin category_White</td>\n",
       "      <td>-0.687526</td>\n",
       "    </tr>\n",
       "    <tr>\n",
       "      <th>1940</th>\n",
       "      <td>10_avg_tmax varietal_Bordeaux-style Red Blend</td>\n",
       "      <td>-0.697479</td>\n",
       "    </tr>\n",
       "    <tr>\n",
       "      <th>561</th>\n",
       "      <td>4_tmax varietal_Red Blends</td>\n",
       "      <td>-0.720998</td>\n",
       "    </tr>\n",
       "    <tr>\n",
       "      <th>603</th>\n",
       "      <td>4_avg_tmin 10_tmin</td>\n",
       "      <td>-0.736670</td>\n",
       "    </tr>\n",
       "    <tr>\n",
       "      <th>305</th>\n",
       "      <td>lat varietal_Chardonnay</td>\n",
       "      <td>-0.834106</td>\n",
       "    </tr>\n",
       "    <tr>\n",
       "      <th>550</th>\n",
       "      <td>4_tmax varietal_Cabernet Sauvignon</td>\n",
       "      <td>-0.839628</td>\n",
       "    </tr>\n",
       "    <tr>\n",
       "      <th>200</th>\n",
       "      <td>price^2</td>\n",
       "      <td>-0.855990</td>\n",
       "    </tr>\n",
       "    <tr>\n",
       "      <th>139</th>\n",
       "      <td>alcohol 4_tmin</td>\n",
       "      <td>-1.517964</td>\n",
       "    </tr>\n",
       "  </tbody>\n",
       "</table>\n",
       "</div>"
      ],
      "text/plain": [
       "                                               coef  lasso_coefs\n",
       "1340                     7_tmax varietal_Pinot Noir    -0.617208\n",
       "315                         lat varietal_Red Blends    -0.632933\n",
       "633                       4_avg_tmin category_White    -0.687526\n",
       "1940  10_avg_tmax varietal_Bordeaux-style Red Blend    -0.697479\n",
       "561                      4_tmax varietal_Red Blends    -0.720998\n",
       "603                              4_avg_tmin 10_tmin    -0.736670\n",
       "305                         lat varietal_Chardonnay    -0.834106\n",
       "550              4_tmax varietal_Cabernet Sauvignon    -0.839628\n",
       "200                                         price^2    -0.855990\n",
       "139                                  alcohol 4_tmin    -1.517964"
      ]
     },
     "execution_count": 26,
     "metadata": {},
     "output_type": "execute_result"
    }
   ],
   "source": [
    "# top 10 variables that had a negative effect on rating\n",
    "coef_df[coef_df['lasso_coefs'] != 0].sort_values(by= ['lasso_coefs'], ascending= False).tail(10)"
   ]
  },
  {
   "cell_type": "markdown",
   "id": "075a5c04-df4f-4b58-8700-58f3035a5a21",
   "metadata": {},
   "source": [
    "the lasso model with the polyfeat has a slighly higher test score (0.3842) than the lasso without polyfeat (0.3738) even though it is overfit"
   ]
  },
  {
   "cell_type": "markdown",
   "id": "255add7d-7f65-4934-bcb8-e19575d6b0ec",
   "metadata": {},
   "source": [
    "<br>\n",
    "due to our data not being the most completely normally-distributed (refer to 03_eda_and_data_viz.ipynb), StandardScalar may not be the best feature transformer to use. the PowerTransformer and QuantileTransformer can be used on non-Gaussian data and mght improve performance. this analysis here uses non-polyfeat month_dum. whichever perform best will be rerun with polyfeat and lasso regression"
   ]
  },
  {
   "cell_type": "code",
   "execution_count": 27,
   "id": "16f87efa-7f01-4ad5-991f-eb22f897ca00",
   "metadata": {},
   "outputs": [],
   "source": [
    "# define X and y and do train_test_split\n",
    "X= month_dum.drop(columns= ['rating', 'reviewer', 'location'])\n",
    "y= month_dum['rating']\n",
    "X_train, X_test, y_train, y_test = train_test_split(X, y, random_state= 42) "
   ]
  },
  {
   "cell_type": "code",
   "execution_count": 28,
   "id": "af523bbe-43e6-4904-9f9a-34fb80cb5895",
   "metadata": {},
   "outputs": [
    {
     "name": "stderr",
     "output_type": "stream",
     "text": [
      "C:\\Users\\kindb\\anaconda3\\lib\\site-packages\\sklearn\\preprocessing\\_data.py:3202: RuntimeWarning: overflow encountered in power\n",
      "  out[pos] = (np.power(x[pos] + 1, lmbda) - 1) / lmbda\n",
      "C:\\Users\\kindb\\anaconda3\\lib\\site-packages\\numpy\\core\\_methods.py:232: RuntimeWarning: overflow encountered in multiply\n",
      "  x = um.multiply(x, x, out=x)\n",
      "C:\\Users\\kindb\\anaconda3\\lib\\site-packages\\numpy\\core\\_methods.py:243: RuntimeWarning: overflow encountered in reduce\n",
      "  ret = umr_sum(x, axis, dtype, out, keepdims=keepdims, where=where)\n",
      "C:\\Users\\kindb\\anaconda3\\lib\\site-packages\\sklearn\\preprocessing\\_data.py:3237: RuntimeWarning: divide by zero encountered in log\n",
      "  loglike = -n_samples / 2 * np.log(x_trans.var())\n"
     ]
    },
    {
     "name": "stdout",
     "output_type": "stream",
     "text": [
      "power transformer lasso train score: 0.4016\n",
      "power transformer lasso test score: 0.394\n"
     ]
    }
   ],
   "source": [
    "# power transformer\n",
    "# instantiate and scale data\n",
    "pt= PowerTransformer()\n",
    "pt.fit(X_train)\n",
    "pt_train= pt.transform(X_train)\n",
    "pt_test= pt.transform(X_test)\n",
    "\n",
    "# instantiate and fit model\n",
    "lasso= Lasso(alpha= 0.0010353793103448276, max_iter= 500, random_state= 42)\n",
    "lasso.fit(pt_train, y_train)\n",
    "\n",
    "# train and test scores\n",
    "print(f'power transformer lasso train score: {round(lasso.score(pt_train, y_train), 4)}')\n",
    "print(f'power transformer lasso test score: {round(lasso.score(pt_test, y_test), 4)}')"
   ]
  },
  {
   "cell_type": "code",
   "execution_count": 29,
   "id": "f9cd12e4-6135-4281-894d-6690115e26e4",
   "metadata": {},
   "outputs": [
    {
     "name": "stdout",
     "output_type": "stream",
     "text": [
      "quantile transformer lasso train score: 0.3983\n",
      "quantile transformer lasso test score: 0.3991\n"
     ]
    },
    {
     "name": "stderr",
     "output_type": "stream",
     "text": [
      "C:\\Users\\kindb\\anaconda3\\lib\\site-packages\\sklearn\\linear_model\\_coordinate_descent.py:530: ConvergenceWarning: Objective did not converge. You might want to increase the number of iterations. Duality gap: 15.824077830417082, tolerance: 8.6304279525291\n",
      "  model = cd_fast.enet_coordinate_descent(\n"
     ]
    }
   ],
   "source": [
    "# quantile transformer\n",
    "# instantiate and scale data\n",
    "qt= QuantileTransformer(output_distribution= 'normal')\n",
    "qt.fit(X_train)\n",
    "qt_train= qt.transform(X_train)\n",
    "qt_test= qt.transform(X_test)\n",
    "\n",
    "# instantiate and fit model\n",
    "lasso= Lasso(alpha= 0.0010353793103448276, max_iter= 500, random_state= 42)\n",
    "lasso.fit(qt_train, y_train)\n",
    "\n",
    "# train and test scores\n",
    "print(f'quantile transformer lasso train score: {round(lasso.score(qt_train, y_train), 4)}')\n",
    "print(f'quantile transformer lasso test score: {round(lasso.score(qt_test, y_test), 4)}')"
   ]
  },
  {
   "cell_type": "markdown",
   "id": "e952b592-00a7-4db6-af57-e3feb26418eb",
   "metadata": {},
   "source": [
    "it appears that the quantile transformer has the highest test scores with 0.3991 so now we will do a polyfeat on the data and use the quantile transformer in a lasso regression"
   ]
  },
  {
   "cell_type": "code",
   "execution_count": 30,
   "id": "94b66008-94cf-43a0-9a2b-e78dbf95636e",
   "metadata": {},
   "outputs": [
    {
     "name": "stdout",
     "output_type": "stream",
     "text": [
      "poly lasso train score: 0.4892\n",
      "poly lasso test score: 0.3983\n"
     ]
    },
    {
     "name": "stderr",
     "output_type": "stream",
     "text": [
      "C:\\Users\\kindb\\anaconda3\\lib\\site-packages\\sklearn\\linear_model\\_coordinate_descent.py:530: ConvergenceWarning: Objective did not converge. You might want to increase the number of iterations. Duality gap: 17268.019856377403, tolerance: 8.6304279525291\n",
      "  model = cd_fast.enet_coordinate_descent(\n"
     ]
    }
   ],
   "source": [
    "# define X and y and do train_test_split\n",
    "X= month_dum.drop(columns= ['rating', 'reviewer', 'location'])\n",
    "y= month_dum['rating']\n",
    "\n",
    "# instatntiate polyfeatures and fit to X and do train test split\n",
    "poly = PolynomialFeatures(degree=2, interaction_only=False, include_bias=False)\n",
    "X_poly= poly.fit_transform(X)\n",
    "X_train_p, X_test_p, y_train_p, y_test_p = train_test_split(X_poly, y, random_state=42)\n",
    "\n",
    "# need to scale data since variables are different magnitudes\n",
    "qt= QuantileTransformer(output_distribution= 'normal')\n",
    "Z_train_p = qt.fit_transform(X_train_p)\n",
    "Z_test_p = qt.transform(X_test_p)\n",
    "\n",
    "# instantiate and fit model\n",
    "lasso= Lasso(alpha= 0.0010353793103448276, max_iter= 500, random_state= 42)\n",
    "lasso.fit(Z_train_p, y_train_p)\n",
    "\n",
    "# train and test scores\n",
    "print(f'poly lasso train score: {round(lasso.score(Z_train_p, y_train_p), 4)}')\n",
    "print(f'poly lasso test score: {round(lasso.score(Z_test_p, y_test_p), 4)}')"
   ]
  },
  {
   "cell_type": "markdown",
   "id": "0cef5d06-e737-48cf-8f6f-dc406f9c76ff",
   "metadata": {},
   "source": [
    "the polyfeat qt lasso model performed slightly worse and was more overfit than the qt lasso model which seems to be the best model for all wines."
   ]
  },
  {
   "cell_type": "markdown",
   "id": "1e43d31f-ed78-4723-bfea-d3f14e58e8ee",
   "metadata": {},
   "source": [
    "<br> \n",
    "looking at the residuals and LINE assumptions will be important in understanding why we aren't having better performance and we will use the qt lasso model for this."
   ]
  },
  {
   "cell_type": "code",
   "execution_count": 31,
   "id": "331d6874-d819-45c0-8b79-d44dbee47117",
   "metadata": {},
   "outputs": [
    {
     "name": "stderr",
     "output_type": "stream",
     "text": [
      "C:\\Users\\kindb\\anaconda3\\lib\\site-packages\\sklearn\\linear_model\\_coordinate_descent.py:530: ConvergenceWarning: Objective did not converge. You might want to increase the number of iterations. Duality gap: 15.824077830417082, tolerance: 8.6304279525291\n",
      "  model = cd_fast.enet_coordinate_descent(\n"
     ]
    }
   ],
   "source": [
    "# instantiate and scale data\n",
    "qt= QuantileTransformer(output_distribution= 'normal')\n",
    "qt.fit(X_train)\n",
    "qt_train= qt.transform(X_train)\n",
    "qt_test= qt.transform(X_test)\n",
    "\n",
    "# instantiate and fit model\n",
    "lasso= Lasso(alpha= 0.0010353793103448276, max_iter= 500, random_state= 42)\n",
    "lasso.fit(qt_train, y_train)\n",
    "\n",
    "# calculate preds and residuals\n",
    "y_preds= lasso.predict(qt_train)\n",
    "resids= y_train- y_preds"
   ]
  },
  {
   "cell_type": "markdown",
   "id": "219fddc3-2ae0-4c0b-8131-07df966e2ace",
   "metadata": {},
   "source": [
    "L- is the data linear?"
   ]
  },
  {
   "cell_type": "code",
   "execution_count": 32,
   "id": "f4c57996-6e41-46aa-841e-e1f51bc07428",
   "metadata": {
    "tags": []
   },
   "outputs": [
    {
     "data": {
      "image/png": "[encoded data removed]",
      "text/plain": [
       "<Figure size 432x288 with 1 Axes>"
      ]
     },
     "metadata": {
      "needs_background": "light"
     },
     "output_type": "display_data"
    }
   ],
   "source": [
    "plt.scatter(X['10_tmin'],y); # any X variable can be put here"
   ]
  },
  {
   "cell_type": "markdown",
   "id": "4b58c55d-2dec-43a2-980c-706feb9a019c",
   "metadata": {},
   "source": [
    "I- is the data independent? not really, there are columns that are dependent upon each other, climate data is related to time"
   ]
  },
  {
   "cell_type": "markdown",
   "id": "852e4907-b3a9-49e9-abd6-30abf154357d",
   "metadata": {},
   "source": [
    "N- are the residuals normally distributed? sort of, more residuals are negative, but it does center around 0"
   ]
  },
  {
   "cell_type": "code",
   "execution_count": 33,
   "id": "db75d1eb-6fef-4f96-ae8e-cfd0bc935e02",
   "metadata": {
    "tags": []
   },
   "outputs": [
    {
     "data": {
      "image/png": "[encoded data removed]",
      "text/plain": [
       "<Figure size 432x288 with 1 Axes>"
      ]
     },
     "metadata": {
      "needs_background": "light"
     },
     "output_type": "display_data"
    }
   ],
   "source": [
    "plt.hist(resids, bins=50);"
   ]
  },
  {
   "cell_type": "markdown",
   "id": "8b0e13e8-a6da-4ec5-a9e3-ee6dcf191547",
   "metadata": {},
   "source": [
    "E- it the data homoscedastic (equal variances)? not completely equal around 0, more negative residuals so kind of heteroscedastic"
   ]
  },
  {
   "cell_type": "code",
   "execution_count": 46,
   "id": "661b1041-3379-4f83-9ebd-9800fea1d2d5",
   "metadata": {},
   "outputs": [
    {
     "data": {
      "image/png": "[encoded data removed]",
      "text/plain": [
       "<Figure size 432x288 with 1 Axes>"
      ]
     },
     "metadata": {
      "needs_background": "light"
     },
     "output_type": "display_data"
    }
   ],
   "source": [
    "plt.scatter(y_preds, resids, s=1)\n",
    "plt.axhline(0, color=\"orange\");"
   ]
  },
  {
   "cell_type": "code",
   "execution_count": null,
   "id": "eaea736d-a706-4d42-8e38-9fbec2d14c92",
   "metadata": {},
   "outputs": [],
   "source": []
  },
  {
   "cell_type": "code",
   "execution_count": null,
   "id": "a40d3f95-0843-45b4-bebc-135cc9322488",
   "metadata": {},
   "outputs": [],
   "source": []
  },
  {
   "cell_type": "markdown",
   "id": "f43acd2d-9264-4945-aa8f-7a11aca7a650",
   "metadata": {},
   "source": [
    "<br>\n",
    "since SVR model had the highest test score above, despite being overfit, let's check it's performance with the quantile transformer "
   ]
  },
  {
   "cell_type": "code",
   "execution_count": 55,
   "id": "0e388dd1-556b-4bdc-a7df-eb2ebc469c4f",
   "metadata": {},
   "outputs": [
    {
     "name": "stdout",
     "output_type": "stream",
     "text": [
      "svr train score: 0.4244\n",
      "svr test score: 0.404\n",
      "qt svr train model is off by 2.39\n",
      "qt svr test model is off by 2.45\n"
     ]
    }
   ],
   "source": [
    "# define X and y and do train_test_split\n",
    "X= month_dum.drop(columns= ['rating', 'reviewer', 'location'])\n",
    "y= month_dum['rating']\n",
    "X_train, X_test, y_train, y_test = train_test_split(X, y, random_state= 42) \n",
    "\n",
    "# instantiate and scale data\n",
    "qt= QuantileTransformer(output_distribution= 'normal')\n",
    "qt.fit(X_train)\n",
    "qt_train= qt.transform(X_train)\n",
    "qt_test= qt.transform(X_test)\n",
    "\n",
    "# instantiate and fit model\n",
    "svr= SVR() \n",
    "svr.fit(qt_train, y_train)\n",
    "\n",
    "# train and test scores\n",
    "print(f'svr train score: {round(svr.score(qt_train, y_train), 4)}')\n",
    "print(f'svr test score: {round(svr.score(qt_test, y_test), 4)}')\n",
    "\n",
    "# model preditictions\n",
    "train_y_preds = svr.predict(qt_train)\n",
    "test_y_preds = svr.predict(qt_test)\n",
    "\n",
    "# rmse\n",
    "print(f'qt svr train model is off by {round(mean_squared_error(y_train, train_y_preds) ** 0.5, 2)}')\n",
    "print(f'qt svr test model is off by {round(mean_squared_error(y_test, test_y_preds) ** 0.5, 2)}')"
   ]
  },
  {
   "cell_type": "markdown",
   "id": "bcb98b84-dce5-43af-88bb-d6275a69f0c3",
   "metadata": {},
   "source": [
    "let's check polyfeat too"
   ]
  },
  {
   "cell_type": "code",
   "execution_count": 36,
   "id": "99e1ef19-d48a-4064-9dab-1e03127fb3fd",
   "metadata": {},
   "outputs": [
    {
     "name": "stdout",
     "output_type": "stream",
     "text": [
      "svr train score: 0.4057\n",
      "svr test score: 0.3927\n",
      "poly qt svr train model is off by 2.43\n",
      "poly qt svr test model is off by 2.47\n"
     ]
    }
   ],
   "source": [
    "# define X and y and do train_test_split\n",
    "X= month_dum.drop(columns= ['rating', 'reviewer', 'location'])\n",
    "y= month_dum['rating']\n",
    "\n",
    "# instatntiate polyfeatures and fit to X and do train test split\n",
    "poly = PolynomialFeatures(degree=2, interaction_only=False, include_bias=False)\n",
    "X_poly= poly.fit_transform(X)\n",
    "X_train_p, X_test_p, y_train_p, y_test_p = train_test_split(X_poly, y, random_state=42)\n",
    "\n",
    "# need to scale data since variables are different magnitudes\n",
    "qt= QuantileTransformer(output_distribution= 'normal')\n",
    "qt_train_p = qt.fit_transform(X_train_p)\n",
    "qt_test_p = qt.transform(X_test_p)\n",
    "\n",
    "# instantiate and fit model\n",
    "svr= SVR() \n",
    "svr.fit(qt_train_p, y_train_p)\n",
    "\n",
    "# train and test scores\n",
    "print(f'svr train score: {round(svr.score(qt_train_p, y_train_p), 4)}')\n",
    "print(f'svr test score: {round(svr.score(qt_test_p, y_test_p), 4)}')\n",
    "\n",
    "# model preditictions\n",
    "train_y_preds = svr.predict(qt_train_p)\n",
    "test_y_preds = svr.predict(qt_test_p)\n",
    "\n",
    "# rmse\n",
    "print(f'poly qt svr train model is off by {round(mean_squared_error(y_train_p, train_y_preds) ** 0.5, 2)}')\n",
    "print(f'poly qt svr test model is off by {round(mean_squared_error(y_test_p, test_y_preds) ** 0.5, 2)}')"
   ]
  },
  {
   "cell_type": "markdown",
   "id": "2b0bacaf-9581-475c-949c-bd4bd78f1f4e",
   "metadata": {
    "tags": []
   },
   "source": [
    "it appears the best model that is the svr qt lasso with a train/test score of (0.4244/0.404)! from changing feature transformers, we were able to increase our test score. "
   ]
  },
  {
   "cell_type": "markdown",
   "id": "5fc95948-56a4-4af2-bdfb-a7db1e2459fc",
   "metadata": {},
   "source": [
    "<br>\n",
    "let's check out just wines from paso robles: 4972 wines"
   ]
  },
  {
   "cell_type": "code",
   "execution_count": 37,
   "id": "db7557f8-2085-4c2e-8046-749348529123",
   "metadata": {},
   "outputs": [
    {
     "name": "stdout",
     "output_type": "stream",
     "text": [
      "quantile transformer lasso train score: 0.5102\n",
      "quantile transformer lasso test score: 0.5049\n"
     ]
    },
    {
     "name": "stderr",
     "output_type": "stream",
     "text": [
      "C:\\Users\\kindb\\anaconda3\\lib\\site-packages\\sklearn\\linear_model\\_coordinate_descent.py:530: ConvergenceWarning: Objective did not converge. You might want to increase the number of iterations. Duality gap: 1360.493868234762, tolerance: 3.963973022257978\n",
      "  model = cd_fast.enet_coordinate_descent(\n"
     ]
    }
   ],
   "source": [
    "# define paso_robles and get dummies\n",
    "paso_robles= data[data['location'].str.contains('Paso Robles')]\n",
    "pr_dum= pd.get_dummies(paso_robles, columns= ['category', 'varietal'], drop_first= True)\n",
    "\n",
    "# define X and y and do train_test_split\n",
    "X= pr_dum.drop(columns= ['rating', 'reviewer', 'location'])\n",
    "y= pr_dum['rating']\n",
    "X_train, X_test, y_train, y_test = train_test_split(X, y, random_state= 42) \n",
    "\n",
    "# need to scale data since variables are different magnitudes\n",
    "qt= QuantileTransformer(output_distribution= 'normal')\n",
    "qt.fit(X_train)\n",
    "qt_train= qt.transform(X_train)\n",
    "qt_test= qt.transform(X_test)\n",
    "\n",
    "# instantiate and fit model\n",
    "lasso= Lasso(alpha= 0.0010353793103448276, max_iter= 500, random_state= 42)\n",
    "lasso.fit(qt_train, y_train)\n",
    "\n",
    "# train and test scores\n",
    "print(f'quantile transformer lasso train score: {round(lasso.score(qt_train, y_train), 4)}')\n",
    "print(f'quantile transformer lasso test score: {round(lasso.score(qt_test, y_test), 4)}')"
   ]
  },
  {
   "cell_type": "markdown",
   "id": "5c4942cc-768d-42c3-927a-5342ddae2791",
   "metadata": {},
   "source": [
    "<br> \n",
    "check out only cabernet sauvignon (most popular wine)"
   ]
  },
  {
   "cell_type": "code",
   "execution_count": 38,
   "id": "7d15a9d0-c397-45be-9cfd-450d3b012c1e",
   "metadata": {},
   "outputs": [
    {
     "name": "stdout",
     "output_type": "stream",
     "text": [
      "qt lasso train score: 0.3428\n",
      "qt lasso test score: 0.3242\n"
     ]
    },
    {
     "name": "stderr",
     "output_type": "stream",
     "text": [
      "C:\\Users\\kindb\\anaconda3\\lib\\site-packages\\sklearn\\linear_model\\_coordinate_descent.py:530: ConvergenceWarning: Objective did not converge. You might want to increase the number of iterations. Duality gap: 524.6418930712243, tolerance: 1.8463813242784393\n",
      "  model = cd_fast.enet_coordinate_descent(\n"
     ]
    }
   ],
   "source": [
    "# define cabsav and get dummies\n",
    "cabsav= data[data['varietal'].str.contains('Cabernet Sauvignon')]\n",
    "cs_dum= pd.get_dummies(cabsav, columns= ['category', 'varietal'], drop_first= True)\n",
    "\n",
    "# define X and y and do train_test_split\n",
    "X= cs_dum.drop(columns= ['rating', 'reviewer', 'location'])\n",
    "y= cs_dum['rating']\n",
    "X_train, X_test, y_train, y_test = train_test_split(X, y, random_state= 42) \n",
    "\n",
    "# need to scale data since variables are different magnitudes\n",
    "qt= QuantileTransformer(output_distribution= 'normal')\n",
    "qt.fit(X_train)\n",
    "qt_train= qt.transform(X_train)\n",
    "qt_test= qt.transform(X_test)\n",
    "\n",
    "# instantiate and fit model\n",
    "lasso= Lasso(alpha= 0.0010353793103448276, max_iter= 500, random_state= 42)\n",
    "lasso.fit(qt_train, y_train)\n",
    "\n",
    "# train and test scores\n",
    "print(f'qt lasso train score: {round(lasso.score(qt_train, y_train), 4)}')\n",
    "print(f'qt lasso test score: {round(lasso.score(qt_test, y_test), 4)}')"
   ]
  }
 ],
 "metadata": {
  "kernelspec": {
   "display_name": "Python 3 (ipykernel)",
   "language": "python",
   "name": "python3"
  },
  "language_info": {
   "codemirror_mode": {
    "name": "ipython",
    "version": 3
   },
   "file_extension": ".py",
   "mimetype": "text/x-python",
   "name": "python",
   "nbconvert_exporter": "python",
   "pygments_lexer": "ipython3",
   "version": "3.9.7"
  }
 },
 "nbformat": 4,
 "nbformat_minor": 5
}
