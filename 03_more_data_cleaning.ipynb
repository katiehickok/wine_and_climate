{
 "cells": [
  {
   "cell_type": "markdown",
   "id": "f95ef28d-b19a-4cc2-8bd9-a593c80709d1",
   "metadata": {},
   "source": [
    "# MORE DATA CLEANING AND DATA DISTRIBUTION CHECK"
   ]
  },
  {
   "cell_type": "markdown",
   "id": "b1b8f1cd-a6be-4f6c-aac3-addcfc2a70d8",
   "metadata": {},
   "source": [
    "imports, libraries, and options"
   ]
  },
  {
   "cell_type": "code",
   "execution_count": 1,
   "id": "d6fff5ad-94e8-4659-a983-bd7f3cf54925",
   "metadata": {},
   "outputs": [],
   "source": [
    "import pandas as pd\n",
    "import numpy as np\n",
    "import matplotlib.pyplot as plt\n",
    "import seaborn as sns\n",
    "\n",
    "pd.options.display.max_colwidth = 500\n",
    "pd.options.display.max_columns = 99\n",
    "\n",
    "sns.set(style=\"whitegrid\")"
   ]
  },
  {
   "cell_type": "markdown",
   "id": "bf6567a6-e167-4ba4-8fe2-844ae18e80b8",
   "metadata": {},
   "source": [
    "<br>\n",
    "read in climate df from pkl as df"
   ]
  },
  {
   "cell_type": "code",
   "execution_count": 2,
   "id": "b3b9ecdc-b1d6-4d0c-9092-b678bea1fedc",
   "metadata": {
    "tags": []
   },
   "outputs": [],
   "source": [
    "df= pd.read_pickle('datasets/climate.pkl')"
   ]
  },
  {
   "cell_type": "markdown",
   "id": "0f81ea86-09e9-4549-97b1-57c3ae037dd3",
   "metadata": {},
   "source": [
    "<br>\n",
    "need to standardize all grape varietal names and only keep varietals that have 50 or more wines associated with them"
   ]
  },
  {
   "cell_type": "code",
   "execution_count": 3,
   "id": "fe6f8153-e9bd-403c-8479-aa893ac76e6c",
   "metadata": {},
   "outputs": [],
   "source": [
    "# https://github.com/RoaldSchuring/studying_terroir/blob/master/Investigating%20Terroir.ipynb\n",
    "\n",
    "wine_replacement = {'G-S-M, Rhône-style Red Blend': 'Rhône-style Red Blend', 'Meritage, Bordeaux-style Red Blend': 'Bordeaux-style Red Blend', \n",
    "                    'Cabernet Blend, Bordeaux-style Red Blend': 'Bordeaux-style Red Blend', 'Grenache-Syrah, Rhône-style Red Blend': 'Rhône-style Red Blend', \n",
    "                    'Cabernet Sauvignon-Merlot, Bordeaux-style Red Blend': 'Bordeaux-style Red Blend', 'Moscato, Muscat': 'Moscato', \n",
    "                    'Cabernet Sauvignon-Cabernet Franc, Bordeaux-style Red Blend': 'Bordeaux-style Red Blend', 'Grenache Blend, Grenache': 'Grenache', \n",
    "                    'Roussanne-Viognier, Rhône-style White Blend': 'Rhône-style White Blend', 'Garnacha, Grenache': 'Grenache', \n",
    "                    'Cabernet Franc-Merlot, Bordeaux-style Red Blend': 'Bordeaux-style Red Blend', 'Muscat': 'Moscato', 'Côt, Malbec': 'Malbec', \n",
    "                    'Merlot-Cabernet Sauvignon, Bordeaux-style Red Blend': 'Bordeaux-style Red Blend', 'Muskat, Muscat': 'Moscato', \n",
    "                    'Merlot-Cabernet Franc, Bordeaux-style Red Blend': 'Bordeaux-style Red Blend', 'Claret, Bordeaux-style Red Blend': 'Bordeaux-style Red Blend',\n",
    "                    'Syrah-Grenache, Rhône-style Red Blend': 'Rhône-style Red Blend', 'Viognier-Roussanne, Rhône-style White Blend': 'Rhône-style White Blend', \n",
    "                    'Malbec-Cabernet Sauvignon, Bordeaux-style Red Blend': 'Bordeaux-style Red Blend', \n",
    "                    'Cabernet Sauvignon-Petit Verdot, Bordeaux-style Red Blend': 'Bordeaux-style Red Blend', \n",
    "                    'Cabernet Sauvignon-Malbec, Bordeaux-style Red Blend': 'Bordeaux-style Red Blend', \n",
    "                    'Cabernet, Bordeaux-style Red Blend': 'Bordeaux-style Red Blend', 'Viognier-Marsanne, Rhône-style White Blend': 'Rhône-style White Blend',\n",
    "                    'Monastrell, Mourvèdre': 'Mourvèdre', 'Durif, Petite Sirah': 'Petite Sirah',\n",
    "                    'Grenache-Mourvèdre, Rhône-style Red Blend': 'Rhône-style Red Blend', 'Grenache-Syrah, Rhône-style Red Blend': 'Rhône-style Red Blend',\n",
    "                    'Mourvèdre-Syrah, Rhône-style Red Blend': 'Rhône-style Red Blend', 'Sémillon, Sémillon': 'Sémillon', \n",
    "                  }\n",
    "\n",
    "# function that takes long name of wine and looks for it in wine_replacemnt dict and then replaces it with the standardized name\n",
    "def standardize_wines(varietal_name):\n",
    "    if varietal_name in wine_replacement:\n",
    "        return wine_replacement[varietal_name]\n",
    "    else:\n",
    "        return varietal_name\n",
    "\n",
    "# applies standardize_wines function to varietal column\n",
    "df['varietal'] = df['varietal'].map(standardize_wines)"
   ]
  },
  {
   "cell_type": "code",
   "execution_count": 4,
   "id": "04a66df2-785b-4d5f-acab-fc96989cc62f",
   "metadata": {},
   "outputs": [
    {
     "data": {
      "text/plain": [
       "Cabernet Sauvignon          2702\n",
       "Pinot Noir                  1412\n",
       "Chardonnay                  1147\n",
       "Red Blends                  1052\n",
       "Bordeaux-style Red Blend     968\n",
       "Zinfandel                    862\n",
       "Rhône-style Red Blend        721\n",
       "Merlot                       703\n",
       "Sauvignon Blanc              580\n",
       "Grenache                     433\n",
       "Petite Sirah                 396\n",
       "Viognier                     344\n",
       "Rosé                         293\n",
       "Rhône-style White Blend      249\n",
       "Cabernet Franc               217\n",
       "Malbec                       189\n",
       "Tempranillo                  173\n",
       "Mourvèdre                    164\n",
       "Sangiovese                   161\n",
       "Grenache Blanc               124\n",
       "Petit Verdot                 108\n",
       "Roussanne                    102\n",
       "Albariño                     101\n",
       "White Blend                   96\n",
       "Riesling                      85\n",
       "Chenin Blanc                  52\n",
       "Name: varietal, dtype: int64"
      ]
     },
     "execution_count": 4,
     "metadata": {},
     "output_type": "execute_result"
    }
   ],
   "source": [
    "# only keeps varietals with counts greater than 50\n",
    "# https://stackoverflow.com/questions/49735683/python-removing-rows-on-count-condition\n",
    "df= df.groupby('varietal').filter(lambda x : len(x)>50)\n",
    "df['varietal'].value_counts()"
   ]
  },
  {
   "cell_type": "markdown",
   "id": "80c92e17-2f9a-4887-9e97-f759bacfed6b",
   "metadata": {
    "tags": []
   },
   "source": [
    "<br>\n",
    "need to remove all rows with words in the price column"
   ]
  },
  {
   "cell_type": "code",
   "execution_count": 8,
   "id": "074982f0-1591-4a2b-806f-22eff951669c",
   "metadata": {},
   "outputs": [],
   "source": [
    "# drops all rows with a null price value\n",
    "df.dropna(subset= ['price'], inplace= True)"
   ]
  },
  {
   "cell_type": "code",
   "execution_count": 9,
   "id": "9cca3c68-6055-4d78-84b2-6936590e52f2",
   "metadata": {},
   "outputs": [
    {
     "data": {
      "text/plain": [
       "243"
      ]
     },
     "execution_count": 9,
     "metadata": {},
     "output_type": "execute_result"
    }
   ],
   "source": [
    "# searches for values in price column that contain the word Vivino\n",
    "len(df.loc[df['price'].str.contains('Vivino')])"
   ]
  },
  {
   "cell_type": "code",
   "execution_count": 10,
   "id": "5e2c606d-d955-4587-9b94-b7d945ab7f0a",
   "metadata": {},
   "outputs": [
    {
     "data": {
      "text/plain": [
       "0"
      ]
     },
     "execution_count": 10,
     "metadata": {},
     "output_type": "execute_result"
    }
   ],
   "source": [
    "# removes all rows with Vivino in the price column\n",
    "df= df[~df['price'].str.contains('Vivino')]\n",
    "len(df.loc[df['price'].str.contains('Vivino')])"
   ]
  },
  {
   "cell_type": "code",
   "execution_count": 11,
   "id": "43a8913e-4390-4660-8da8-87c2c7764eb1",
   "metadata": {},
   "outputs": [
    {
     "data": {
      "text/plain": [
       "14"
      ]
     },
     "execution_count": 11,
     "metadata": {},
     "output_type": "execute_result"
    }
   ],
   "source": [
    "# searches for values in price column that contain the word Wine\n",
    "len(df.loc[df['price'].str.contains('Wine')])"
   ]
  },
  {
   "cell_type": "code",
   "execution_count": 12,
   "id": "692431a1-36d6-49dc-9530-dcd8e7ee504c",
   "metadata": {},
   "outputs": [
    {
     "data": {
      "text/plain": [
       "0"
      ]
     },
     "execution_count": 12,
     "metadata": {},
     "output_type": "execute_result"
    }
   ],
   "source": [
    "# removes all rows with Wine in the price column\n",
    "df= df[~df['price'].str.contains('Wine')]\n",
    "len(df.loc[df['price'].str.contains('Wine')])"
   ]
  },
  {
   "cell_type": "code",
   "execution_count": 15,
   "id": "ef949e65-bc7e-4f34-8d76-ff31e5becfcb",
   "metadata": {},
   "outputs": [
    {
     "name": "stderr",
     "output_type": "stream",
     "text": [
      "C:\\Users\\kindb\\AppData\\Local\\Temp/ipykernel_20128/1827275318.py:2: FutureWarning: The default value of regex will change from True to False in a future version. In addition, single character regular expressions will *not* be treated as literal strings when regex=True.\n",
      "  df['price']= df['price'].str.replace('$', '')\n"
     ]
    }
   ],
   "source": [
    "# gets rid of the $ in the price column and coverts dtype to float\n",
    "df['price']= df['price'].str.replace('$', '')\n",
    "df['price']= df['price'].astype(str).astype(float)"
   ]
  },
  {
   "cell_type": "markdown",
   "id": "b58e1975-7215-475a-853a-5fd25ac2d432",
   "metadata": {},
   "source": [
    "<br>\n",
    "need to remove all rows with an alcohol % > 18% since the majority of table wines won't be higher than that"
   ]
  },
  {
   "cell_type": "code",
   "execution_count": 16,
   "id": "f32fc59f-5d7f-40b6-8d42-00adb3d5d6ca",
   "metadata": {},
   "outputs": [
    {
     "data": {
      "text/plain": [
       "array([nan, '15%', '14.1%', '14.5%', '14.4%', '13.9%', '12.3%', '13.7%',\n",
       "       '13.8%', '14.6%', '13.4%', '14%', '12.2%', '15.4%', '13.2%',\n",
       "       '15.9%', '15.6%', '15.5%', '14.9%', '15.2%', '14.3%', '13%',\n",
       "       '14.8%', '14.2%', '14.7%', '13.5%', '15.1%', '15.7%', '15.8%',\n",
       "       '16.2%', '13.6%', '12.5%', '15.3%', '11.5%', '16.3%', '13.1%',\n",
       "       '16%', '16.8%', '16.5%', '13.75%', '17.1%', '12.8%', '13.85%',\n",
       "       '4920%', '16.4%', '12.9%', '16.9%', '12.1%', '14.95%', '15.35%',\n",
       "       '12.4%', '13.56%', '15.38%', '17.9%', '13.78%', '14.25%', '13.3%',\n",
       "       '12%', '18.7%', '16.1%', '12.7%', '15.25%', '14.59%', '13.94%',\n",
       "       '13.98%', '16.7%', '13.74%', '12.6%', '14.43%', '41%', '11.3%',\n",
       "       '11.4%', '13.45%', '11.86%', '11.75%', '17.5%', '13.09%', '15.75%',\n",
       "       '15.49%', '14.54%', '87%', '350%', '16.6%', '14.58%', '14.63%',\n",
       "       '17.2%', '11.7%', '21%', '10.5%', '11%', '17%', '14.65%', '13.92%',\n",
       "       '14.56%', '14.75%', '13.88%', '14.41%', '14.71%', '13.97%',\n",
       "       '14.35%', '14.72%', '15.18%', '14.27%', '14.48%', '15.32%',\n",
       "       '14.89%', '14.55%', '14.66%', '14.78%', '15.02%', '15.33%',\n",
       "       '11.9%', '13.66%', '13.61%', '14.13%', '14.19%', '14.16%',\n",
       "       '14.29%', '11.2%', '15.67%', '14.87%', '15.76%', '10.6%', '10%',\n",
       "       '13.83%', '12.73%', '12.23%', '90%', '13.95%', '13.31%', '13.69%',\n",
       "       '14.15%', '12.35%', '13.03%', '13.28%', '12.67%', '14.21%',\n",
       "       '11.07%', '13.22%', '12.95%'], dtype=object)"
      ]
     },
     "execution_count": 16,
     "metadata": {},
     "output_type": "execute_result"
    }
   ],
   "source": [
    "df['alcohol'].unique()"
   ]
  },
  {
   "cell_type": "code",
   "execution_count": 17,
   "id": "25d07329-ade0-49c0-bc2d-2c081412899e",
   "metadata": {},
   "outputs": [],
   "source": [
    "# remove % sign and convery dtype from object to float\n",
    "df['alcohol']= df['alcohol'].str.replace('%', '')\n",
    "df['alcohol']= df['alcohol'].astype(str).astype(float)\n",
    "\n",
    "# drop all rows with alcohol content greater than 18%\n",
    "df= df[df['alcohol'] < 18]"
   ]
  },
  {
   "cell_type": "markdown",
   "id": "95db171a-fee5-498f-935f-5e6c00f184b7",
   "metadata": {},
   "source": [
    "<br>\n",
    "drop all columns with 3 in them for march because the North American grape growing season is April- October"
   ]
  },
  {
   "cell_type": "code",
   "execution_count": 18,
   "id": "71efb87d-7cf2-4009-8716-83a433cd828d",
   "metadata": {},
   "outputs": [],
   "source": [
    "df.drop(columns= ['3_prcp', '3_tmin', '3_tmax', '3_avg_tmin', '3_avg_tmax'], inplace = True)"
   ]
  },
  {
   "cell_type": "code",
   "execution_count": 19,
   "id": "518f926b-f470-4e20-b944-e672cf1883e3",
   "metadata": {},
   "outputs": [
    {
     "data": {
      "text/plain": [
       "Index(['wine', 'name', 'vintage', 'category', 'varietal', 'winery',\n",
       "       'appellation', 'designation', 'alcohol', 'price', 'rating', 'reviewer',\n",
       "       'location', 'geocode', 'lat', 'long', 'id', '4_prcp', '4_tmin',\n",
       "       '4_tmax', '4_avg_tmin', '4_avg_tmax', '5_prcp', '5_tmin', '5_tmax',\n",
       "       '5_avg_tmin', '5_avg_tmax', '6_prcp', '6_tmin', '6_tmax', '6_avg_tmin',\n",
       "       '6_avg_tmax', '7_prcp', '7_tmin', '7_tmax', '7_avg_tmin', '7_avg_tmax',\n",
       "       '8_prcp', '8_tmin', '8_tmax', '8_avg_tmin', '8_avg_tmax', '9_prcp',\n",
       "       '9_tmin', '9_tmax', '9_avg_tmin', '9_avg_tmax', '10_prcp', '10_tmin',\n",
       "       '10_tmax', '10_avg_tmin', '10_avg_tmax'],\n",
       "      dtype='object')"
      ]
     },
     "execution_count": 19,
     "metadata": {},
     "output_type": "execute_result"
    }
   ],
   "source": [
    "df.columns"
   ]
  },
  {
   "cell_type": "markdown",
   "id": "960b62e7-6369-42a4-baac-dde127e04c81",
   "metadata": {},
   "source": [
    "<br>\n",
    "add seasonal columns to df for data viz"
   ]
  },
  {
   "cell_type": "code",
   "execution_count": 20,
   "id": "d1351402-8129-409f-a53b-b884ebd8e471",
   "metadata": {},
   "outputs": [],
   "source": [
    "# seasonal precipitation columns\n",
    "df['spring_prcp_tot']= df['4_prcp'] + df['5_prcp']\n",
    "df['summer_prcp_tot']= df['6_prcp'] + df['7_prcp'] + df['8_prcp']\n",
    "df['autumn_prcp_tot']= df['9_prcp'] + df['10_prcp']\n",
    "\n",
    "# seasonal avg temperature maximum columns\n",
    "df['spring_tmax_avg']= (df['4_avg_tmax'] + df['5_avg_tmax'])/ 2\n",
    "df['summer_tmax_avg']= (df['6_avg_tmax'] + df['7_avg_tmax'] + df['8_avg_tmax'])/ 3\n",
    "df['autumn_tmax_avg']= (df['9_avg_tmax'] + df['10_avg_tmax'])/ 2\n",
    "\n",
    "# seasonal avg temperature minimum columns\n",
    "df['spring_tmin_avg']= (df['4_avg_tmin'] + df['5_avg_tmin'])/ 2\n",
    "df['summer_tmin_avg']= (df['6_avg_tmin'] + df['7_avg_tmin'] + df['8_avg_tmin'])/ 3\n",
    "df['autumn_tmin_avg']= (df['9_avg_tmin'] + df['10_avg_tmin'])/ 2"
   ]
  },
  {
   "cell_type": "code",
   "execution_count": 21,
   "id": "c9e51497-dfbf-4acf-948c-bb74df43da0e",
   "metadata": {},
   "outputs": [
    {
     "data": {
      "text/plain": [
       "Index(['wine', 'name', 'vintage', 'category', 'varietal', 'winery',\n",
       "       'appellation', 'designation', 'alcohol', 'price', 'rating', 'reviewer',\n",
       "       'location', 'geocode', 'lat', 'long', 'id', '4_prcp', '4_tmin',\n",
       "       '4_tmax', '4_avg_tmin', '4_avg_tmax', '5_prcp', '5_tmin', '5_tmax',\n",
       "       '5_avg_tmin', '5_avg_tmax', '6_prcp', '6_tmin', '6_tmax', '6_avg_tmin',\n",
       "       '6_avg_tmax', '7_prcp', '7_tmin', '7_tmax', '7_avg_tmin', '7_avg_tmax',\n",
       "       '8_prcp', '8_tmin', '8_tmax', '8_avg_tmin', '8_avg_tmax', '9_prcp',\n",
       "       '9_tmin', '9_tmax', '9_avg_tmin', '9_avg_tmax', '10_prcp', '10_tmin',\n",
       "       '10_tmax', '10_avg_tmin', '10_avg_tmax', 'spring_prcp_tot',\n",
       "       'summer_prcp_tot', 'autumn_prcp_tot', 'spring_tmax_avg',\n",
       "       'summer_tmax_avg', 'autumn_tmax_avg', 'spring_tmin_avg',\n",
       "       'summer_tmin_avg', 'autumn_tmin_avg'],\n",
       "      dtype='object')"
      ]
     },
     "execution_count": 21,
     "metadata": {},
     "output_type": "execute_result"
    }
   ],
   "source": [
    "df.columns"
   ]
  },
  {
   "cell_type": "code",
   "execution_count": 22,
   "id": "7b50077b-5eda-4f93-8daf-dd85977cf723",
   "metadata": {},
   "outputs": [
    {
     "name": "stdout",
     "output_type": "stream",
     "text": [
      "<class 'pandas.core.frame.DataFrame'>\n",
      "Int64Index: 11573 entries, 7 to 14080\n",
      "Data columns (total 61 columns):\n",
      " #   Column           Non-Null Count  Dtype  \n",
      "---  ------           --------------  -----  \n",
      " 0   wine             11573 non-null  object \n",
      " 1   name             11573 non-null  object \n",
      " 2   vintage          11573 non-null  int64  \n",
      " 3   category         11573 non-null  object \n",
      " 4   varietal         11573 non-null  object \n",
      " 5   winery           11573 non-null  object \n",
      " 6   appellation      11573 non-null  object \n",
      " 7   designation      8157 non-null   object \n",
      " 8   alcohol          11573 non-null  float64\n",
      " 9   price            11573 non-null  float64\n",
      " 10  rating           11573 non-null  int64  \n",
      " 11  reviewer         7361 non-null   object \n",
      " 12  location         11573 non-null  object \n",
      " 13  geocode          11573 non-null  object \n",
      " 14  lat              11573 non-null  float64\n",
      " 15  long             11573 non-null  float64\n",
      " 16  id               11573 non-null  object \n",
      " 17  4_prcp           11573 non-null  float64\n",
      " 18  4_tmin           11573 non-null  float64\n",
      " 19  4_tmax           11573 non-null  float64\n",
      " 20  4_avg_tmin       11573 non-null  float64\n",
      " 21  4_avg_tmax       11573 non-null  float64\n",
      " 22  5_prcp           11573 non-null  float64\n",
      " 23  5_tmin           11573 non-null  float64\n",
      " 24  5_tmax           11573 non-null  float64\n",
      " 25  5_avg_tmin       11573 non-null  float64\n",
      " 26  5_avg_tmax       11573 non-null  float64\n",
      " 27  6_prcp           11573 non-null  float64\n",
      " 28  6_tmin           11573 non-null  float64\n",
      " 29  6_tmax           11573 non-null  float64\n",
      " 30  6_avg_tmin       11573 non-null  float64\n",
      " 31  6_avg_tmax       11573 non-null  float64\n",
      " 32  7_prcp           11573 non-null  float64\n",
      " 33  7_tmin           11573 non-null  float64\n",
      " 34  7_tmax           11573 non-null  float64\n",
      " 35  7_avg_tmin       11573 non-null  float64\n",
      " 36  7_avg_tmax       11573 non-null  float64\n",
      " 37  8_prcp           11573 non-null  float64\n",
      " 38  8_tmin           11573 non-null  float64\n",
      " 39  8_tmax           11573 non-null  float64\n",
      " 40  8_avg_tmin       11573 non-null  float64\n",
      " 41  8_avg_tmax       11573 non-null  float64\n",
      " 42  9_prcp           11573 non-null  float64\n",
      " 43  9_tmin           11573 non-null  float64\n",
      " 44  9_tmax           11573 non-null  float64\n",
      " 45  9_avg_tmin       11573 non-null  float64\n",
      " 46  9_avg_tmax       11573 non-null  float64\n",
      " 47  10_prcp          11573 non-null  float64\n",
      " 48  10_tmin          11573 non-null  float64\n",
      " 49  10_tmax          11573 non-null  float64\n",
      " 50  10_avg_tmin      11573 non-null  float64\n",
      " 51  10_avg_tmax      11573 non-null  float64\n",
      " 52  spring_prcp_tot  11573 non-null  float64\n",
      " 53  summer_prcp_tot  11573 non-null  float64\n",
      " 54  autumn_prcp_tot  11573 non-null  float64\n",
      " 55  spring_tmax_avg  11573 non-null  float64\n",
      " 56  summer_tmax_avg  11573 non-null  float64\n",
      " 57  autumn_tmax_avg  11573 non-null  float64\n",
      " 58  spring_tmin_avg  11573 non-null  float64\n",
      " 59  summer_tmin_avg  11573 non-null  float64\n",
      " 60  autumn_tmin_avg  11573 non-null  float64\n",
      "dtypes: float64(48), int64(2), object(11)\n",
      "memory usage: 5.5+ MB\n"
     ]
    }
   ],
   "source": [
    "df.info()"
   ]
  },
  {
   "cell_type": "markdown",
   "id": "d36cb88f-9aa7-4bb4-9b58-4792a102f9d9",
   "metadata": {},
   "source": [
    "<br>\n",
    "reset df index and save df as pkl for modelling and csv for maps"
   ]
  },
  {
   "cell_type": "code",
   "execution_count": 179,
   "id": "9eded4ba-ea69-43cc-8437-cef2aafb2268",
   "metadata": {},
   "outputs": [],
   "source": [
    "df.reset_index(drop= True, inplace= True)\n",
    "df.to_pickle('datasets/df_for_modelling.pkl')\n"
   ]
  },
  {
   "cell_type": "code",
   "execution_count": 16,
   "id": "6a058911-ecee-4730-b324-2db31f367ead",
   "metadata": {},
   "outputs": [],
   "source": [
    "df.to_csv('datasets/df_for_tableau.csv', index= False)"
   ]
  },
  {
   "cell_type": "markdown",
   "id": "a75bc96b-f0b3-4844-a8d2-71b699614a31",
   "metadata": {},
   "source": [
    "<br>\n",
    "make dataframes to perform eda on"
   ]
  },
  {
   "cell_type": "code",
   "execution_count": 23,
   "id": "25d1dde8-4a14-4718-b072-9a7df425067c",
   "metadata": {
    "tags": []
   },
   "outputs": [],
   "source": [
    "df_month= df[['wine', 'name', 'vintage', 'category', 'varietal', 'winery', 'appellation', 'designation', 'alcohol', 'price', 'rating', 'reviewer', 'location', \n",
    "              'geocode', 'lat', 'long', 'id', '4_prcp', '4_tmin', '4_tmax', '4_avg_tmin', '4_avg_tmax', '5_prcp', '5_tmin', '5_tmax', '5_avg_tmin', '5_avg_tmax', \n",
    "              '6_prcp', '6_tmin', '6_tmax', '6_avg_tmin', '6_avg_tmax', '7_prcp', '7_tmin', '7_tmax', '7_avg_tmin', '7_avg_tmax', '8_prcp', '8_tmin', '8_tmax', \n",
    "              '8_avg_tmin', '8_avg_tmax', '9_prcp', '9_tmin', '9_tmax', '9_avg_tmin', '9_avg_tmax', '10_prcp', '10_tmin', '10_tmax', '10_avg_tmin', \n",
    "              '10_avg_tmax']]\n",
    "\n",
    "df_season= df[['wine', 'name', 'vintage', 'category', 'varietal', 'winery', 'appellation', 'designation', 'alcohol', 'price', 'rating', 'reviewer', 'location', \n",
    "               'geocode', 'lat', 'long', 'id', 'spring_prcp_tot', 'summer_prcp_tot', 'autumn_prcp_tot', 'spring_tmax_avg', 'summer_tmax_avg', 'autumn_tmax_avg', \n",
    "               'spring_tmin_avg', 'summer_tmin_avg', 'autumn_tmin_avg']]"
   ]
  },
  {
   "cell_type": "code",
   "execution_count": 18,
   "id": "d5c4c089-642a-4724-b4ff-693a451882db",
   "metadata": {},
   "outputs": [],
   "source": [
    "# reds\n",
    "red= df[df['category'].str.contains('Red')]\n",
    "red.reset_index(drop= True, inplace= True)\n",
    "\n",
    "# whites\n",
    "white= df[df['category'].str.contains('White')]\n",
    "white.reset_index(drop= True, inplace= True)\n",
    "\n",
    "# rose\n",
    "rose= df[df['category'].str.contains('Rose')]\n",
    "rose.reset_index(drop= True, inplace= True)\n",
    "\n",
    "# california\n",
    "cali= df[df['location'].str.contains('California')]\n",
    "cali.reset_index(drop= True, inplace= True)\n",
    "\n",
    "# oregon\n",
    "oregon= df[df['location'].str.contains('Oregon')]\n",
    "oregon.reset_index(drop= True, inplace= True)\n",
    "\n",
    "# washington\n",
    "wash= df[df['location'].str.contains('Washington')]\n",
    "wash.reset_index(drop= True, inplace= True)\n",
    "\n",
    "# cab sav\n",
    "cabsav= df[df['varietal'].str.contains('Cabernet Sauvignon')]\n",
    "cabsav.reset_index(drop= True, inplace= True)\n",
    "\n",
    "# paso robles\n",
    "paso_robles= df[df['location'].str.contains('Paso Robles')]\n",
    "paso_robles.reset_index(drop= True, inplace= True)"
   ]
  },
  {
   "cell_type": "markdown",
   "id": "4aac7c77-2ff0-4465-9e60-57c36fb89042",
   "metadata": {},
   "source": [
    "<br>\n",
    "is the data normally distributed?"
   ]
  },
  {
   "cell_type": "code",
   "execution_count": 217,
   "id": "6ddb8a88-e6d0-48de-8f21-41cfe7cb0a13",
   "metadata": {
    "tags": []
   },
   "outputs": [
    {
     "data": {
      "image/png": "[encoded data removed]",
      "text/plain": [
       "<Figure size 576x432 with 1 Axes>"
      ]
     },
     "metadata": {},
     "output_type": "display_data"
    }
   ],
   "source": [
    "plt.figure(figsize= (8, 6))\n",
    "sns.boxplot(data= df, x= 'rating', color= '#B6Df5e').set_xlabel('Rating');"
   ]
  },
  {
   "cell_type": "code",
   "execution_count": 193,
   "id": "1befb5ca-783a-43d5-bd09-5e72347e1a49",
   "metadata": {},
   "outputs": [
    {
     "data": {
      "image/png": "[encoded data removed]",
      "text/plain": [
       "<Figure size 720x720 with 1 Axes>"
      ]
     },
     "metadata": {},
     "output_type": "display_data"
    }
   ],
   "source": [
    "plt.figure(figsize= (10, 10))\n",
    "sns.histplot(data= df, x= 'rating', kde= False, bins= 20, color= '#B6Df5e').set_xlabel('Rating')\n",
    "plt.axvline(np.mean(df['rating']), color= 'black', label= 'mean')\n",
    "plt.legend;"
   ]
  },
  {
   "cell_type": "code",
   "execution_count": 197,
   "id": "d3fdf7d9-bc9f-42e6-8bd9-8e7aa075b226",
   "metadata": {},
   "outputs": [
    {
     "data": {
      "text/plain": [
       "89.04907975460122"
      ]
     },
     "execution_count": 197,
     "metadata": {},
     "output_type": "execute_result"
    }
   ],
   "source": [
    "np.mean(df['rating'])"
   ]
  },
  {
   "cell_type": "code",
   "execution_count": 202,
   "id": "39838db0-bc30-415c-b770-a6e4c74adaed",
   "metadata": {},
   "outputs": [
    {
     "data": {
      "text/plain": [
       "5607"
      ]
     },
     "execution_count": 202,
     "metadata": {},
     "output_type": "execute_result"
    }
   ],
   "source": [
    "len(df.loc[df['rating'] > 89])"
   ]
  },
  {
   "cell_type": "code",
   "execution_count": 201,
   "id": "a7830fae-6912-407c-aadc-d2c41924e18d",
   "metadata": {},
   "outputs": [
    {
     "data": {
      "text/plain": [
       "5966"
      ]
     },
     "execution_count": 201,
     "metadata": {},
     "output_type": "execute_result"
    }
   ],
   "source": [
    "len(df.loc[df['rating'] <= 89])"
   ]
  },
  {
   "cell_type": "code",
   "execution_count": null,
   "id": "506026ca-f79c-4f29-9d5c-b0903b1111cc",
   "metadata": {},
   "outputs": [],
   "source": []
  },
  {
   "cell_type": "code",
   "execution_count": null,
   "id": "1df712f5-367a-40dc-8d53-acbb48d2d65d",
   "metadata": {},
   "outputs": [],
   "source": []
  }
 ],
 "metadata": {
  "kernelspec": {
   "display_name": "Python 3 (ipykernel)",
   "language": "python",
   "name": "python3"
  },
  "language_info": {
   "codemirror_mode": {
    "name": "ipython",
    "version": 3
   },
   "file_extension": ".py",
   "mimetype": "text/x-python",
   "name": "python",
   "nbconvert_exporter": "python",
   "pygments_lexer": "ipython3",
   "version": "3.9.7"
  }
 },
 "nbformat": 4,
 "nbformat_minor": 5
}
