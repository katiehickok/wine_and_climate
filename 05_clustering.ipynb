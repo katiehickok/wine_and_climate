{
 "cells": [
  {
   "cell_type": "markdown",
   "id": "b1cbedc8-049f-45d4-b17e-cec5f56d1ae5",
   "metadata": {},
   "source": [
    "# CLUSTERING"
   ]
  },
  {
   "cell_type": "markdown",
   "id": "266ce21f-823f-4787-b8fa-0625cc1fa3f6",
   "metadata": {},
   "source": [
    "imports, libraries, and options"
   ]
  },
  {
   "cell_type": "code",
   "execution_count": 28,
   "id": "421700e2-97e5-4ebd-ac8e-21f9b0f35603",
   "metadata": {},
   "outputs": [],
   "source": [
    "import pandas as pd\n",
    "import numpy as np\n",
    "import matplotlib.pyplot as plt\n",
    "import seaborn as sns\n",
    "import plotly as py\n",
    "import plotly.graph_objs as pgo\n",
    "\n",
    "from sklearn.model_selection import train_test_split\n",
    "from sklearn.metrics import mean_squared_error, silhouette_score\n",
    "from sklearn.preprocessing import StandardScaler\n",
    "from sklearn.cluster import KMeans\n",
    "\n",
    "pd.options.display.max_colwidth = 500\n",
    "pd.options.display.max_columns = 99"
   ]
  },
  {
   "cell_type": "markdown",
   "id": "2ab138ff-1fd9-4410-8dbc-9f3cc8940aa3",
   "metadata": {},
   "source": [
    "<br>\n",
    "read in df_for_modelling df from pkl as df and drop unmodelable columns"
   ]
  },
  {
   "cell_type": "code",
   "execution_count": 4,
   "id": "943b6858-4934-4a31-b457-b11ffc899744",
   "metadata": {
    "tags": []
   },
   "outputs": [
    {
     "data": {
      "text/plain": [
       "Index(['wine', 'name', 'vintage', 'category', 'varietal', 'winery',\n",
       "       'appellation', 'designation', 'alcohol', 'price', 'rating', 'reviewer',\n",
       "       'location', 'geocode', 'lat', 'long', 'id', '4_prcp', '4_tmin',\n",
       "       '4_tmax', '4_avg_tmin', '4_avg_tmax', '5_prcp', '5_tmin', '5_tmax',\n",
       "       '5_avg_tmin', '5_avg_tmax', '6_prcp', '6_tmin', '6_tmax', '6_avg_tmin',\n",
       "       '6_avg_tmax', '7_prcp', '7_tmin', '7_tmax', '7_avg_tmin', '7_avg_tmax',\n",
       "       '8_prcp', '8_tmin', '8_tmax', '8_avg_tmin', '8_avg_tmax', '9_prcp',\n",
       "       '9_tmin', '9_tmax', '9_avg_tmin', '9_avg_tmax', '10_prcp', '10_tmin',\n",
       "       '10_tmax', '10_avg_tmin', '10_avg_tmax', 'spring_prcp_tot',\n",
       "       'summer_prcp_tot', 'autumn_prcp_tot', 'spring_tmax_avg',\n",
       "       'summer_tmax_avg', 'autumn_tmax_avg', 'spring_tmin_avg',\n",
       "       'summer_tmin_avg', 'autumn_tmin_avg'],\n",
       "      dtype='object')"
      ]
     },
     "execution_count": 4,
     "metadata": {},
     "output_type": "execute_result"
    }
   ],
   "source": [
    "data= pd.read_pickle('datasets/df_for_modelling.pkl')\n",
    "data.columns"
   ]
  },
  {
   "cell_type": "code",
   "execution_count": 5,
   "id": "b35f31fb-22c8-45f0-8076-1dc956adb2d6",
   "metadata": {},
   "outputs": [
    {
     "data": {
      "text/plain": [
       "Index(['vintage', 'category', 'varietal', 'alcohol', 'price', 'rating',\n",
       "       'reviewer', 'location', 'lat', 'long', '4_prcp', '4_tmin', '4_tmax',\n",
       "       '4_avg_tmin', '4_avg_tmax', '5_prcp', '5_tmin', '5_tmax', '5_avg_tmin',\n",
       "       '5_avg_tmax', '6_prcp', '6_tmin', '6_tmax', '6_avg_tmin', '6_avg_tmax',\n",
       "       '7_prcp', '7_tmin', '7_tmax', '7_avg_tmin', '7_avg_tmax', '8_prcp',\n",
       "       '8_tmin', '8_tmax', '8_avg_tmin', '8_avg_tmax', '9_prcp', '9_tmin',\n",
       "       '9_tmax', '9_avg_tmin', '9_avg_tmax', '10_prcp', '10_tmin', '10_tmax',\n",
       "       '10_avg_tmin', '10_avg_tmax', 'spring_prcp_tot', 'summer_prcp_tot',\n",
       "       'autumn_prcp_tot', 'spring_tmax_avg', 'summer_tmax_avg',\n",
       "       'autumn_tmax_avg', 'spring_tmin_avg', 'summer_tmin_avg',\n",
       "       'autumn_tmin_avg'],\n",
       "      dtype='object')"
      ]
     },
     "execution_count": 5,
     "metadata": {},
     "output_type": "execute_result"
    }
   ],
   "source": [
    "# these columns won't be used in the modelling or to make new modelling df so we will drop them here \n",
    "data.drop(columns= ['wine', 'name', 'winery', 'appellation', 'designation', 'geocode', 'id'], inplace= True)\n",
    "data.columns"
   ]
  },
  {
   "cell_type": "markdown",
   "id": "2b665451-0b3a-4ac6-8200-e3f88d684d9b",
   "metadata": {},
   "source": [
    "<br>\n",
    "cluster data based on monthly climate variables, lat, long"
   ]
  },
  {
   "cell_type": "code",
   "execution_count": 13,
   "id": "07dc3e32-e3c7-4c74-a5d7-4e0de5e3b62b",
   "metadata": {},
   "outputs": [
    {
     "data": {
      "image/png": "[encoded data removed]",
      "text/plain": [
       "<Figure size 432x288 with 1 Axes>"
      ]
     },
     "metadata": {
      "needs_background": "light"
     },
     "output_type": "display_data"
    }
   ],
   "source": [
    "# columns not needed for cluster analysis\n",
    "not_col= ['category', 'varietal', 'alcohol', 'price', 'rating', 'reviewer', 'location', 'spring_prcp_tot', 'summer_prcp_tot', 'autumn_prcp_tot', \n",
    "          'spring_tmax_avg', 'summer_tmax_avg', 'autumn_tmax_avg', 'spring_tmin_avg', 'summer_tmin_avg', 'autumn_tmin_avg', 'vintage']\n",
    "\n",
    "# define new clust_df\n",
    "clust_df= data.drop(columns= not_col)\n",
    "\n",
    "# scale data\n",
    "ss= StandardScaler()\n",
    "ss.fit(clust_df)\n",
    "Z_df= ss.transform(clust_df)\n",
    "\n",
    "# search through variables for best value for num of clusters\n",
    "scores= []\n",
    "\n",
    "for k in range(2, 20):\n",
    "    kmeans= KMeans(n_clusters= k, random_state= 42)\n",
    "    kmeans.fit(Z_df)\n",
    "    inertia= kmeans.inertia_\n",
    "    scores.append([k, inertia])\n",
    "\n",
    "# plot of num of clusters and their inertia, where the elbow is the ideal num of clusters\n",
    "inertia_df= pd.DataFrame(scores, columns= ['n_clusters', 'inertia'])\n",
    "plt.plot(inertia_df['n_clusters'], inertia_df['inertia'])\n",
    "plt.xlabel('number of clusters'), plt.ylabel('inertia');"
   ]
  },
  {
   "cell_type": "markdown",
   "id": "fa3bebbc-3d70-47b3-9375-d84e0c6f0c6d",
   "metadata": {},
   "source": [
    "<br>\n",
    "perform KMeans clustering on clust_df with ideal num of clusters from plot: 4"
   ]
  },
  {
   "cell_type": "code",
   "execution_count": 15,
   "id": "109638cc-ae97-4194-b988-2aa9a6eb8a37",
   "metadata": {},
   "outputs": [],
   "source": [
    "# KMeans clustering\n",
    "km= KMeans(n_clusters= 4, random_state= 42) \n",
    "km.fit(Z_df)\n",
    "\n",
    "# append cluster column to data df making new data_clust\n",
    "data_clust= data.copy()\n",
    "data_clust['cluster']= km.labels_"
   ]
  },
  {
   "cell_type": "code",
   "execution_count": 456,
   "id": "408fdca7-b4fa-49fd-a317-d3dffbc115dd",
   "metadata": {},
   "outputs": [],
   "source": [
    "# data_clust.to_csv('datasets/clusters.csv', index= False)"
   ]
  },
  {
   "cell_type": "markdown",
   "id": "7c4e978e-402e-4784-9423-805046d606c8",
   "metadata": {},
   "source": [
    "<br>\n",
    "determine distribution of wines in each cluster"
   ]
  },
  {
   "cell_type": "code",
   "execution_count": 16,
   "id": "febe2c1b-ab04-4031-9a2d-39f3b641ca0a",
   "metadata": {},
   "outputs": [
    {
     "data": {
      "text/plain": [
       "0    7865\n",
       "3    1966\n",
       "1     872\n",
       "2     870\n",
       "Name: cluster, dtype: int64"
      ]
     },
     "execution_count": 16,
     "metadata": {},
     "output_type": "execute_result"
    }
   ],
   "source": [
    "data_clust['cluster'].value_counts() "
   ]
  },
  {
   "cell_type": "markdown",
   "id": "6c8584bd-df9a-4465-9258-0131b1328508",
   "metadata": {},
   "source": [
    "groupby cluster and look at how variables are represented in each one"
   ]
  },
  {
   "cell_type": "code",
   "execution_count": 125,
   "id": "d0ff66be-80cb-49e7-9545-40690968edc7",
   "metadata": {},
   "outputs": [
    {
     "data": {
      "text/plain": [
       "(cluster\n",
       " 0    88.757279\n",
       " 1    89.444954\n",
       " 2    89.522989\n",
       " 3    89.831129\n",
       " Name: rating, dtype: float64,\n",
       " cluster\n",
       " 0    39.834275\n",
       " 1    34.792431\n",
       " 2    47.644828\n",
       " 3    42.647762\n",
       " Name: price, dtype: float64,\n",
       " cluster\n",
       " 0    14.428830\n",
       " 1    13.996433\n",
       " 2    14.413575\n",
       " 3    14.017803\n",
       " Name: alcohol, dtype: float64,\n",
       " cluster\n",
       " 0    2011.347997\n",
       " 1    2011.637615\n",
       " 2    2013.535632\n",
       " 3    2012.752289\n",
       " Name: vintage, dtype: float64)"
      ]
     },
     "execution_count": 125,
     "metadata": {},
     "output_type": "execute_result"
    }
   ],
   "source": [
    "data_clust.groupby(by= ['cluster'])['rating'].mean(), data_clust.groupby('cluster')['price'].mean(), data_clust.groupby('cluster')['alcohol'].mean(), data_clust.groupby('cluster')['vintage'].mean()"
   ]
  },
  {
   "cell_type": "markdown",
   "id": "09994851-7665-4a8d-82c5-7db276c6c21a",
   "metadata": {},
   "source": [
    "how clusters change depending on seasonal variables"
   ]
  },
  {
   "cell_type": "code",
   "execution_count": 122,
   "id": "4f28343e-035a-47f4-a37d-5d70da257d0a",
   "metadata": {},
   "outputs": [
    {
     "data": {
      "text/plain": [
       "''"
      ]
     },
     "execution_count": 122,
     "metadata": {},
     "output_type": "execute_result"
    },
    {
     "data": {
      "image/png": "[encoded data removed]",
      "text/plain": [
       "<Figure size 1152x576 with 4 Axes>"
      ]
     },
     "metadata": {
      "needs_background": "light"
     },
     "output_type": "display_data"
    }
   ],
   "source": [
    "fig, axes= plt.subplots(nrows= 2, ncols= 2, figsize= (16, 8))\n",
    "axes[0, 0].plot(data_clust.groupby(['cluster'])['spring_tmin_avg'].mean(), label= 'min', color= '#B6DF5E')\n",
    "axes[0, 0].plot(data_clust.groupby(['cluster'])['spring_tmax_avg'].mean(), label= 'max', color= '#D81624')\n",
    "axes[0, 0].set_title('average spring temperature')\n",
    "axes[0, 0].set_ylabel('temperature (degC)')\n",
    "axes[0, 0].set_xticks([0, 1, 2, 3])\n",
    "axes[0, 0].legend()\n",
    "\n",
    "axes[0, 1].plot(data_clust.groupby(['cluster'])['summer_tmin_avg'].mean(), label= 'min', color= '#B6DF5E', linestyle= 'dashed')\n",
    "axes[0, 1].plot(data_clust.groupby(['cluster'])['summer_tmax_avg'].mean(), label= 'max', color= '#D81624', linestyle= 'dashed')\n",
    "axes[0, 1].set_title('average summer temperature') \n",
    "axes[0, 1].set_ylabel('temperature (degC)')\n",
    "axes[0, 1].set_xticks([0, 1, 2, 3])\n",
    "axes[0, 1].legend()\n",
    "\n",
    "axes[1, 0].plot(data_clust.groupby(['cluster'])['autumn_tmin_avg'].mean(), label= 'min', color= '#B6DF5E', linestyle= 'dotted')\n",
    "axes[1, 0].plot(data_clust.groupby(['cluster'])['autumn_tmax_avg'].mean(), label= 'max', color= '#D81624', linestyle= 'dotted')\n",
    "axes[1, 0].set_title('average autumn temperature') \n",
    "axes[1, 0].set_ylabel('temperature (degC)')\n",
    "axes[1, 0].set_xlabel('cluster')\n",
    "axes[1, 0].set_xticks([0, 1, 2, 3])\n",
    "axes[1, 0].legend()\n",
    "\n",
    "axes[1, 1].plot(data_clust.groupby(['cluster'])['spring_prcp_tot'].mean(), label= 'spring', color= '#0070C0')\n",
    "axes[1, 1].plot(data_clust.groupby(['cluster'])['summer_prcp_tot'].mean(), label= 'summer', color= '#0070C0', linestyle= 'dashed')\n",
    "axes[1, 1].plot(data_clust.groupby(['cluster'])['autumn_prcp_tot'].mean(), label= 'autumn', color= '#0070C0', linestyle= 'dotted')\n",
    "axes[1, 1].set_title('average seasonal precipitation') \n",
    "axes[1, 1].set_ylabel('precipitation (mm)')\n",
    "axes[1, 1].set_xlabel('cluster')\n",
    "axes[1, 1].set_xticks([0, 1, 2, 3])\n",
    "axes[1, 1].legend()\n",
    ";"
   ]
  },
  {
   "cell_type": "code",
   "execution_count": 123,
   "id": "44059630-9c77-47c8-bf43-c8f814299944",
   "metadata": {},
   "outputs": [
    {
     "name": "stderr",
     "output_type": "stream",
     "text": [
      "C:\\Users\\kindb\\AppData\\Local\\Temp/ipykernel_27684/4152545086.py:1: FutureWarning: Indexing with multiple keys (implicitly converted to a tuple of keys) will be deprecated, use a list instead.\n",
      "  data_clust.groupby(by= 'cluster')['spring_tmin_avg', 'summer_tmin_avg', 'autumn_tmin_avg', 'spring_tmax_avg', 'summer_tmax_avg', 'autumn_tmax_avg',\n"
     ]
    },
    {
     "data": {
      "text/html": [
       "<div>\n",
       "<style scoped>\n",
       "    .dataframe tbody tr th:only-of-type {\n",
       "        vertical-align: middle;\n",
       "    }\n",
       "\n",
       "    .dataframe tbody tr th {\n",
       "        vertical-align: top;\n",
       "    }\n",
       "\n",
       "    .dataframe thead th {\n",
       "        text-align: right;\n",
       "    }\n",
       "</style>\n",
       "<table border=\"1\" class=\"dataframe\">\n",
       "  <thead>\n",
       "    <tr style=\"text-align: right;\">\n",
       "      <th></th>\n",
       "      <th>spring_tmin_avg</th>\n",
       "      <th>summer_tmin_avg</th>\n",
       "      <th>autumn_tmin_avg</th>\n",
       "      <th>spring_tmax_avg</th>\n",
       "      <th>summer_tmax_avg</th>\n",
       "      <th>autumn_tmax_avg</th>\n",
       "      <th>spring_prcp_tot</th>\n",
       "      <th>summer_prcp_tot</th>\n",
       "      <th>autumn_prcp_tot</th>\n",
       "      <th>lat</th>\n",
       "      <th>long</th>\n",
       "    </tr>\n",
       "    <tr>\n",
       "      <th>cluster</th>\n",
       "      <th></th>\n",
       "      <th></th>\n",
       "      <th></th>\n",
       "      <th></th>\n",
       "      <th></th>\n",
       "      <th></th>\n",
       "      <th></th>\n",
       "      <th></th>\n",
       "      <th></th>\n",
       "      <th></th>\n",
       "      <th></th>\n",
       "    </tr>\n",
       "  </thead>\n",
       "  <tbody>\n",
       "    <tr>\n",
       "      <th>0</th>\n",
       "      <td>6.928635</td>\n",
       "      <td>11.475350</td>\n",
       "      <td>8.528931</td>\n",
       "      <td>24.838235</td>\n",
       "      <td>32.288189</td>\n",
       "      <td>29.664894</td>\n",
       "      <td>1.622817</td>\n",
       "      <td>0.193544</td>\n",
       "      <td>0.598780</td>\n",
       "      <td>36.023878</td>\n",
       "      <td>-120.940229</td>\n",
       "    </tr>\n",
       "    <tr>\n",
       "      <th>1</th>\n",
       "      <td>12.594957</td>\n",
       "      <td>20.832203</td>\n",
       "      <td>15.486936</td>\n",
       "      <td>26.826815</td>\n",
       "      <td>35.877162</td>\n",
       "      <td>29.707465</td>\n",
       "      <td>0.764169</td>\n",
       "      <td>0.037305</td>\n",
       "      <td>0.235880</td>\n",
       "      <td>35.767040</td>\n",
       "      <td>-119.131839</td>\n",
       "    </tr>\n",
       "    <tr>\n",
       "      <th>2</th>\n",
       "      <td>5.388970</td>\n",
       "      <td>12.317934</td>\n",
       "      <td>8.444470</td>\n",
       "      <td>15.777108</td>\n",
       "      <td>24.985362</td>\n",
       "      <td>17.506078</td>\n",
       "      <td>4.665536</td>\n",
       "      <td>3.196206</td>\n",
       "      <td>8.553049</td>\n",
       "      <td>48.242855</td>\n",
       "      <td>-121.106746</td>\n",
       "    </tr>\n",
       "    <tr>\n",
       "      <th>3</th>\n",
       "      <td>10.077060</td>\n",
       "      <td>14.172605</td>\n",
       "      <td>12.465821</td>\n",
       "      <td>21.742353</td>\n",
       "      <td>26.752303</td>\n",
       "      <td>25.314058</td>\n",
       "      <td>1.333633</td>\n",
       "      <td>0.234031</td>\n",
       "      <td>0.906803</td>\n",
       "      <td>37.799534</td>\n",
       "      <td>-121.799767</td>\n",
       "    </tr>\n",
       "  </tbody>\n",
       "</table>\n",
       "</div>"
      ],
      "text/plain": [
       "         spring_tmin_avg  summer_tmin_avg  autumn_tmin_avg  spring_tmax_avg  \\\n",
       "cluster                                                                       \n",
       "0               6.928635        11.475350         8.528931        24.838235   \n",
       "1              12.594957        20.832203        15.486936        26.826815   \n",
       "2               5.388970        12.317934         8.444470        15.777108   \n",
       "3              10.077060        14.172605        12.465821        21.742353   \n",
       "\n",
       "         summer_tmax_avg  autumn_tmax_avg  spring_prcp_tot  summer_prcp_tot  \\\n",
       "cluster                                                                       \n",
       "0              32.288189        29.664894         1.622817         0.193544   \n",
       "1              35.877162        29.707465         0.764169         0.037305   \n",
       "2              24.985362        17.506078         4.665536         3.196206   \n",
       "3              26.752303        25.314058         1.333633         0.234031   \n",
       "\n",
       "         autumn_prcp_tot        lat        long  \n",
       "cluster                                          \n",
       "0               0.598780  36.023878 -120.940229  \n",
       "1               0.235880  35.767040 -119.131839  \n",
       "2               8.553049  48.242855 -121.106746  \n",
       "3               0.906803  37.799534 -121.799767  "
      ]
     },
     "execution_count": 123,
     "metadata": {},
     "output_type": "execute_result"
    }
   ],
   "source": [
    "data_clust.groupby(by= 'cluster')['spring_tmin_avg', 'summer_tmin_avg', 'autumn_tmin_avg', 'spring_tmax_avg', 'summer_tmax_avg', 'autumn_tmax_avg',\n",
    "                                  'spring_prcp_tot', 'summer_prcp_tot', 'autumn_prcp_tot', 'lat', 'long'].mean()"
   ]
  },
  {
   "cell_type": "code",
   "execution_count": 114,
   "id": "8292157e-376f-445b-bffd-eaf3e7c1c010",
   "metadata": {},
   "outputs": [
    {
     "name": "stderr",
     "output_type": "stream",
     "text": [
      "C:\\Users\\kindb\\AppData\\Local\\Temp/ipykernel_27684/2394245146.py:1: FutureWarning: Indexing with multiple keys (implicitly converted to a tuple of keys) will be deprecated, use a list instead.\n",
      "  data_clust.groupby(by= 'cluster')['spring_tmin_avg', 'summer_tmin_avg', 'autumn_tmin_avg', 'spring_tmax_avg', 'summer_tmax_avg', 'autumn_tmax_avg',\n"
     ]
    },
    {
     "data": {
      "text/html": [
       "<div>\n",
       "<style scoped>\n",
       "    .dataframe tbody tr th:only-of-type {\n",
       "        vertical-align: middle;\n",
       "    }\n",
       "\n",
       "    .dataframe tbody tr th {\n",
       "        vertical-align: top;\n",
       "    }\n",
       "\n",
       "    .dataframe thead th {\n",
       "        text-align: right;\n",
       "    }\n",
       "</style>\n",
       "<table border=\"1\" class=\"dataframe\">\n",
       "  <thead>\n",
       "    <tr style=\"text-align: right;\">\n",
       "      <th></th>\n",
       "      <th>spring_tmin_avg</th>\n",
       "      <th>summer_tmin_avg</th>\n",
       "      <th>autumn_tmin_avg</th>\n",
       "      <th>spring_tmax_avg</th>\n",
       "      <th>summer_tmax_avg</th>\n",
       "      <th>autumn_tmax_avg</th>\n",
       "      <th>spring_prcp_tot</th>\n",
       "      <th>summer_prcp_tot</th>\n",
       "      <th>autumn_prcp_tot</th>\n",
       "    </tr>\n",
       "    <tr>\n",
       "      <th>cluster</th>\n",
       "      <th></th>\n",
       "      <th></th>\n",
       "      <th></th>\n",
       "      <th></th>\n",
       "      <th></th>\n",
       "      <th></th>\n",
       "      <th></th>\n",
       "      <th></th>\n",
       "      <th></th>\n",
       "    </tr>\n",
       "  </thead>\n",
       "  <tbody>\n",
       "    <tr>\n",
       "      <th>0</th>\n",
       "      <td>9.919570</td>\n",
       "      <td>16.907058</td>\n",
       "      <td>11.159355</td>\n",
       "      <td>28.662473</td>\n",
       "      <td>34.644265</td>\n",
       "      <td>33.972312</td>\n",
       "      <td>6.674301</td>\n",
       "      <td>4.350000</td>\n",
       "      <td>3.353011</td>\n",
       "    </tr>\n",
       "    <tr>\n",
       "      <th>1</th>\n",
       "      <td>14.173172</td>\n",
       "      <td>22.933405</td>\n",
       "      <td>17.849946</td>\n",
       "      <td>29.044713</td>\n",
       "      <td>37.750932</td>\n",
       "      <td>33.565163</td>\n",
       "      <td>2.338925</td>\n",
       "      <td>1.025806</td>\n",
       "      <td>4.329032</td>\n",
       "    </tr>\n",
       "    <tr>\n",
       "      <th>2</th>\n",
       "      <td>10.299355</td>\n",
       "      <td>14.107051</td>\n",
       "      <td>13.468172</td>\n",
       "      <td>21.005269</td>\n",
       "      <td>28.985735</td>\n",
       "      <td>24.314194</td>\n",
       "      <td>7.255269</td>\n",
       "      <td>7.900000</td>\n",
       "      <td>14.005054</td>\n",
       "    </tr>\n",
       "    <tr>\n",
       "      <th>3</th>\n",
       "      <td>13.706882</td>\n",
       "      <td>19.126918</td>\n",
       "      <td>19.046237</td>\n",
       "      <td>24.295054</td>\n",
       "      <td>32.081466</td>\n",
       "      <td>30.124946</td>\n",
       "      <td>8.128571</td>\n",
       "      <td>2.500000</td>\n",
       "      <td>7.350323</td>\n",
       "    </tr>\n",
       "  </tbody>\n",
       "</table>\n",
       "</div>"
      ],
      "text/plain": [
       "         spring_tmin_avg  summer_tmin_avg  autumn_tmin_avg  spring_tmax_avg  \\\n",
       "cluster                                                                       \n",
       "0               9.919570        16.907058        11.159355        28.662473   \n",
       "1              14.173172        22.933405        17.849946        29.044713   \n",
       "2              10.299355        14.107051        13.468172        21.005269   \n",
       "3              13.706882        19.126918        19.046237        24.295054   \n",
       "\n",
       "         summer_tmax_avg  autumn_tmax_avg  spring_prcp_tot  summer_prcp_tot  \\\n",
       "cluster                                                                       \n",
       "0              34.644265        33.972312         6.674301         4.350000   \n",
       "1              37.750932        33.565163         2.338925         1.025806   \n",
       "2              28.985735        24.314194         7.255269         7.900000   \n",
       "3              32.081466        30.124946         8.128571         2.500000   \n",
       "\n",
       "         autumn_prcp_tot  \n",
       "cluster                   \n",
       "0               3.353011  \n",
       "1               4.329032  \n",
       "2              14.005054  \n",
       "3               7.350323  "
      ]
     },
     "execution_count": 114,
     "metadata": {},
     "output_type": "execute_result"
    }
   ],
   "source": [
    "data_clust.groupby(by= 'cluster')['spring_tmin_avg', 'summer_tmin_avg', 'autumn_tmin_avg', 'spring_tmax_avg', 'summer_tmax_avg', 'autumn_tmax_avg',\n",
    "                                  'spring_prcp_tot', 'summer_prcp_tot', 'autumn_prcp_tot',].max()"
   ]
  },
  {
   "cell_type": "code",
   "execution_count": 116,
   "id": "b0e7d50c-7610-4943-afff-2e795793feaf",
   "metadata": {
    "tags": []
   },
   "outputs": [
    {
     "name": "stderr",
     "output_type": "stream",
     "text": [
      "C:\\Users\\kindb\\AppData\\Local\\Temp/ipykernel_27684/1863154771.py:1: FutureWarning: Indexing with multiple keys (implicitly converted to a tuple of keys) will be deprecated, use a list instead.\n",
      "  data_clust.groupby(by= 'cluster')['spring_tmin_avg', 'summer_tmin_avg', 'autumn_tmin_avg', 'spring_tmax_avg', 'summer_tmax_avg', 'autumn_tmax_avg',\n"
     ]
    },
    {
     "data": {
      "text/html": [
       "<div>\n",
       "<style scoped>\n",
       "    .dataframe tbody tr th:only-of-type {\n",
       "        vertical-align: middle;\n",
       "    }\n",
       "\n",
       "    .dataframe tbody tr th {\n",
       "        vertical-align: top;\n",
       "    }\n",
       "\n",
       "    .dataframe thead th {\n",
       "        text-align: right;\n",
       "    }\n",
       "</style>\n",
       "<table border=\"1\" class=\"dataframe\">\n",
       "  <thead>\n",
       "    <tr style=\"text-align: right;\">\n",
       "      <th></th>\n",
       "      <th>spring_tmin_avg</th>\n",
       "      <th>summer_tmin_avg</th>\n",
       "      <th>autumn_tmin_avg</th>\n",
       "      <th>spring_tmax_avg</th>\n",
       "      <th>summer_tmax_avg</th>\n",
       "      <th>autumn_tmax_avg</th>\n",
       "      <th>spring_prcp_tot</th>\n",
       "      <th>summer_prcp_tot</th>\n",
       "      <th>autumn_prcp_tot</th>\n",
       "    </tr>\n",
       "    <tr>\n",
       "      <th>cluster</th>\n",
       "      <th></th>\n",
       "      <th></th>\n",
       "      <th></th>\n",
       "      <th></th>\n",
       "      <th></th>\n",
       "      <th></th>\n",
       "      <th></th>\n",
       "      <th></th>\n",
       "      <th></th>\n",
       "    </tr>\n",
       "  </thead>\n",
       "  <tbody>\n",
       "    <tr>\n",
       "      <th>0</th>\n",
       "      <td>4.468118</td>\n",
       "      <td>8.762437</td>\n",
       "      <td>5.667258</td>\n",
       "      <td>18.179892</td>\n",
       "      <td>27.992509</td>\n",
       "      <td>22.288387</td>\n",
       "      <td>0.000000</td>\n",
       "      <td>0.000000</td>\n",
       "      <td>0.00000</td>\n",
       "    </tr>\n",
       "    <tr>\n",
       "      <th>1</th>\n",
       "      <td>8.666398</td>\n",
       "      <td>15.710000</td>\n",
       "      <td>13.040269</td>\n",
       "      <td>21.814286</td>\n",
       "      <td>32.140775</td>\n",
       "      <td>23.299086</td>\n",
       "      <td>0.000000</td>\n",
       "      <td>0.000000</td>\n",
       "      <td>0.00000</td>\n",
       "    </tr>\n",
       "    <tr>\n",
       "      <th>2</th>\n",
       "      <td>3.115538</td>\n",
       "      <td>10.618280</td>\n",
       "      <td>7.166237</td>\n",
       "      <td>11.599032</td>\n",
       "      <td>22.103907</td>\n",
       "      <td>15.088387</td>\n",
       "      <td>1.796559</td>\n",
       "      <td>1.076667</td>\n",
       "      <td>1.37129</td>\n",
       "    </tr>\n",
       "    <tr>\n",
       "      <th>3</th>\n",
       "      <td>6.041559</td>\n",
       "      <td>10.535950</td>\n",
       "      <td>8.738548</td>\n",
       "      <td>16.630860</td>\n",
       "      <td>17.175986</td>\n",
       "      <td>17.910806</td>\n",
       "      <td>0.000000</td>\n",
       "      <td>0.000000</td>\n",
       "      <td>0.00000</td>\n",
       "    </tr>\n",
       "  </tbody>\n",
       "</table>\n",
       "</div>"
      ],
      "text/plain": [
       "         spring_tmin_avg  summer_tmin_avg  autumn_tmin_avg  spring_tmax_avg  \\\n",
       "cluster                                                                       \n",
       "0               4.468118         8.762437         5.667258        18.179892   \n",
       "1               8.666398        15.710000        13.040269        21.814286   \n",
       "2               3.115538        10.618280         7.166237        11.599032   \n",
       "3               6.041559        10.535950         8.738548        16.630860   \n",
       "\n",
       "         summer_tmax_avg  autumn_tmax_avg  spring_prcp_tot  summer_prcp_tot  \\\n",
       "cluster                                                                       \n",
       "0              27.992509        22.288387         0.000000         0.000000   \n",
       "1              32.140775        23.299086         0.000000         0.000000   \n",
       "2              22.103907        15.088387         1.796559         1.076667   \n",
       "3              17.175986        17.910806         0.000000         0.000000   \n",
       "\n",
       "         autumn_prcp_tot  \n",
       "cluster                   \n",
       "0                0.00000  \n",
       "1                0.00000  \n",
       "2                1.37129  \n",
       "3                0.00000  "
      ]
     },
     "execution_count": 116,
     "metadata": {},
     "output_type": "execute_result"
    }
   ],
   "source": [
    "data_clust.groupby(by= 'cluster')['spring_tmin_avg', 'summer_tmin_avg', 'autumn_tmin_avg', 'spring_tmax_avg', 'summer_tmax_avg', 'autumn_tmax_avg',\n",
    "                                  'spring_prcp_tot', 'summer_prcp_tot', 'autumn_prcp_tot',].min()"
   ]
  }
 ],
 "metadata": {
  "kernelspec": {
   "display_name": "Python 3 (ipykernel)",
   "language": "python",
   "name": "python3"
  },
  "language_info": {
   "codemirror_mode": {
    "name": "ipython",
    "version": 3
   },
   "file_extension": ".py",
   "mimetype": "text/x-python",
   "name": "python",
   "nbconvert_exporter": "python",
   "pygments_lexer": "ipython3",
   "version": "3.9.7"
  }
 },
 "nbformat": 4,
 "nbformat_minor": 5
}
